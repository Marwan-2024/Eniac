{
 "cells": [
  {
   "cell_type": "code",
   "execution_count": null,
   "metadata": {
    "id": "MIx_U6owRb0V"
   },
   "outputs": [],
   "source": []
  },
  {
   "cell_type": "code",
   "execution_count": 1,
   "metadata": {
    "colab": {
     "base_uri": "https://localhost:8080/",
     "height": 206
    },
    "id": "CQMAiKzAatBx",
    "outputId": "b415c9fb-0f84-4de8-c5d1-d364e49cbeb1"
   },
   "outputs": [
    {
     "data": {
      "text/html": [
       "<div>\n",
       "<style scoped>\n",
       "    .dataframe tbody tr th:only-of-type {\n",
       "        vertical-align: middle;\n",
       "    }\n",
       "\n",
       "    .dataframe tbody tr th {\n",
       "        vertical-align: top;\n",
       "    }\n",
       "\n",
       "    .dataframe thead th {\n",
       "        text-align: right;\n",
       "    }\n",
       "</style>\n",
       "<table border=\"1\" class=\"dataframe\">\n",
       "  <thead>\n",
       "    <tr style=\"text-align: right;\">\n",
       "      <th></th>\n",
       "      <th>sku</th>\n",
       "      <th>name</th>\n",
       "      <th>desc</th>\n",
       "      <th>price</th>\n",
       "      <th>promo_price</th>\n",
       "      <th>in_stock</th>\n",
       "      <th>type</th>\n",
       "    </tr>\n",
       "  </thead>\n",
       "  <tbody>\n",
       "    <tr>\n",
       "      <th>0</th>\n",
       "      <td>RAI0007</td>\n",
       "      <td>Silver Rain Design mStand Support</td>\n",
       "      <td>Aluminum support compatible with all MacBook</td>\n",
       "      <td>59.99</td>\n",
       "      <td>499.899</td>\n",
       "      <td>1</td>\n",
       "      <td>8696</td>\n",
       "    </tr>\n",
       "    <tr>\n",
       "      <th>1</th>\n",
       "      <td>APP0023</td>\n",
       "      <td>Apple Mac Keyboard Keypad Spanish</td>\n",
       "      <td>USB ultrathin keyboard Apple Mac Spanish.</td>\n",
       "      <td>59</td>\n",
       "      <td>589.996</td>\n",
       "      <td>0</td>\n",
       "      <td>13855401</td>\n",
       "    </tr>\n",
       "    <tr>\n",
       "      <th>2</th>\n",
       "      <td>APP0025</td>\n",
       "      <td>Mighty Mouse Apple Mouse for Mac</td>\n",
       "      <td>mouse Apple USB cable.</td>\n",
       "      <td>59</td>\n",
       "      <td>569.898</td>\n",
       "      <td>0</td>\n",
       "      <td>1387</td>\n",
       "    </tr>\n",
       "    <tr>\n",
       "      <th>3</th>\n",
       "      <td>APP0072</td>\n",
       "      <td>Apple Dock to USB Cable iPhone and iPod white</td>\n",
       "      <td>IPhone dock and USB Cable Apple iPod.</td>\n",
       "      <td>25</td>\n",
       "      <td>229.997</td>\n",
       "      <td>0</td>\n",
       "      <td>1230</td>\n",
       "    </tr>\n",
       "    <tr>\n",
       "      <th>4</th>\n",
       "      <td>KIN0007</td>\n",
       "      <td>Mac Memory Kingston 2GB 667MHz DDR2 SO-DIMM</td>\n",
       "      <td>2GB RAM Mac mini and iMac (2006/07) MacBook Pr...</td>\n",
       "      <td>34.99</td>\n",
       "      <td>31.99</td>\n",
       "      <td>1</td>\n",
       "      <td>1364</td>\n",
       "    </tr>\n",
       "  </tbody>\n",
       "</table>\n",
       "</div>"
      ],
      "text/plain": [
       "       sku                                           name  \\\n",
       "0  RAI0007              Silver Rain Design mStand Support   \n",
       "1  APP0023              Apple Mac Keyboard Keypad Spanish   \n",
       "2  APP0025               Mighty Mouse Apple Mouse for Mac   \n",
       "3  APP0072  Apple Dock to USB Cable iPhone and iPod white   \n",
       "4  KIN0007    Mac Memory Kingston 2GB 667MHz DDR2 SO-DIMM   \n",
       "\n",
       "                                                desc  price promo_price  \\\n",
       "0       Aluminum support compatible with all MacBook  59.99     499.899   \n",
       "1          USB ultrathin keyboard Apple Mac Spanish.     59     589.996   \n",
       "2                             mouse Apple USB cable.     59     569.898   \n",
       "3              IPhone dock and USB Cable Apple iPod.     25     229.997   \n",
       "4  2GB RAM Mac mini and iMac (2006/07) MacBook Pr...  34.99       31.99   \n",
       "\n",
       "   in_stock      type  \n",
       "0         1      8696  \n",
       "1         0  13855401  \n",
       "2         0      1387  \n",
       "3         0      1230  \n",
       "4         1      1364  "
      ]
     },
     "execution_count": 1,
     "metadata": {},
     "output_type": "execute_result"
    }
   ],
   "source": [
    "import pandas as pd\n",
    "import matplotlib.pyplot as plt\n",
    "\n",
    "urls = [\n",
    "    \"https://drive.google.com/file/d/1afxwDXfl-7cQ_qLwyDitfcCx3u7WMvkU/view?usp=drive_link\",\n",
    "    \"https://drive.google.com/file/d/1Vu0q91qZw6lqhIqbjoXYvYAQTmVHh6uZ/view?usp=drive_link\",\n",
    "    \"https://drive.google.com/file/d/1FYhN_2AzTBFuWcfHaRuKcuCE6CWXsWtG/view?usp=drive_link\",\n",
    "    \"https://drive.google.com/file/d/1m1ThDDIYRTTii-rqM5SEQjJ8McidJskD/view?usp=drive_link\"\n",
    "]\n",
    "\n",
    "file_names = [\"df_prod.csv\", \"df_orders.csv\", \"df_orderlines.csv\", \"df_brands.csv\"]\n",
    "\n",
    "def read_csv_from_drive(url, file_name):\n",
    "    path = \"https://drive.google.com/uc?export=download&id=\"+url.split(\"/\")[-2]\n",
    "    return pd.read_csv(path)\n",
    "\n",
    "df_prod, df_orders, df_orderlines, df_brands = [read_csv_from_drive(url, file_name) for url, file_name in zip(urls, file_names)]\n",
    "\n",
    "df_prod.head()"
   ]
  },
  {
   "cell_type": "markdown",
   "metadata": {
    "id": "W7SQJAPeTZH-"
   },
   "source": [
    "## **Make Copy of DataFrame**"
   ]
  },
  {
   "cell_type": "code",
   "execution_count": 2,
   "metadata": {
    "id": "Kxs8r0oyR0gg"
   },
   "outputs": [],
   "source": [
    "df_orders_copy = df_orders.copy()\n",
    "df_orderlines_copy = df_orderlines.copy()\n",
    "df_prod_copy = df_prod.copy()\n",
    "df_brands_copy = df_brands.copy()"
   ]
  },
  {
   "cell_type": "markdown",
   "metadata": {
    "id": "jItqXNMjTIV0"
   },
   "source": [
    "## **1. Duplicates**"
   ]
  },
  {
   "cell_type": "markdown",
   "metadata": {
    "id": "Jxc4kTPyVRKh"
   },
   "source": [
    "**Check duplicates in each dataframe and perfom cleaning steps if needed:**\n",
    "\n"
   ]
  },
  {
   "cell_type": "code",
   "execution_count": 3,
   "metadata": {
    "colab": {
     "base_uri": "https://localhost:8080/"
    },
    "id": "aqymnw--SinW",
    "outputId": "c8f7784e-0529-401f-89e5-a5dccefaeb80"
   },
   "outputs": [
    {
     "data": {
      "text/plain": [
       "0"
      ]
     },
     "execution_count": 3,
     "metadata": {},
     "output_type": "execute_result"
    }
   ],
   "source": [
    "df_orders_copy.duplicated().sum()"
   ]
  },
  {
   "cell_type": "code",
   "execution_count": 4,
   "metadata": {
    "colab": {
     "base_uri": "https://localhost:8080/"
    },
    "id": "r22tL-sSSqfD",
    "outputId": "5b861a2b-32f2-4283-c05e-c0ac2176a946"
   },
   "outputs": [
    {
     "data": {
      "text/plain": [
       "0"
      ]
     },
     "execution_count": 4,
     "metadata": {},
     "output_type": "execute_result"
    }
   ],
   "source": [
    "df_orderlines_copy.duplicated().sum()"
   ]
  },
  {
   "cell_type": "code",
   "execution_count": 5,
   "metadata": {
    "colab": {
     "base_uri": "https://localhost:8080/"
    },
    "id": "jJZL39MGTgdZ",
    "outputId": "f4bc3443-a79f-4fdb-f3ce-c126103f1b13"
   },
   "outputs": [
    {
     "data": {
      "text/plain": [
       "8746"
      ]
     },
     "execution_count": 5,
     "metadata": {},
     "output_type": "execute_result"
    }
   ],
   "source": [
    "df_prod_copy.duplicated().sum()"
   ]
  },
  {
   "cell_type": "markdown",
   "metadata": {
    "id": "_zads0DtUGxL"
   },
   "source": [
    "**We have identified 8746 duplicates in the product dataframe. Considering this as the product catalog of ENIAC, we can safely remove all duplicates from this dataframe, as it will not impact the subsequent analysis.**"
   ]
  },
  {
   "cell_type": "code",
   "execution_count": 6,
   "metadata": {
    "id": "vzQySBlnUxWu"
   },
   "outputs": [],
   "source": [
    "df_prod_copy = df_prod_copy.drop_duplicates()"
   ]
  },
  {
   "cell_type": "code",
   "execution_count": 7,
   "metadata": {
    "colab": {
     "base_uri": "https://localhost:8080/"
    },
    "id": "67ORi1CqVjae",
    "outputId": "20d137ba-7d4e-4d42-b900-ecb4a4532962"
   },
   "outputs": [
    {
     "data": {
      "text/plain": [
       "0"
      ]
     },
     "execution_count": 7,
     "metadata": {},
     "output_type": "execute_result"
    }
   ],
   "source": [
    "df_brands_copy.duplicated().sum()"
   ]
  },
  {
   "cell_type": "markdown",
   "metadata": {
    "id": "G_Y2FzRBVxI1"
   },
   "source": [
    "## **2 .info()**"
   ]
  },
  {
   "cell_type": "code",
   "execution_count": 8,
   "metadata": {
    "colab": {
     "base_uri": "https://localhost:8080/"
    },
    "id": "VYI0GygES-TB",
    "outputId": "d2b8fd11-7f35-42bc-9c8a-c90452150c2e"
   },
   "outputs": [
    {
     "name": "stdout",
     "output_type": "stream",
     "text": [
      "<class 'pandas.core.frame.DataFrame'>\n",
      "RangeIndex: 226909 entries, 0 to 226908\n",
      "Data columns (total 4 columns):\n",
      " #   Column        Non-Null Count   Dtype  \n",
      "---  ------        --------------   -----  \n",
      " 0   order_id      226909 non-null  int64  \n",
      " 1   created_date  226909 non-null  object \n",
      " 2   total_paid    226904 non-null  float64\n",
      " 3   state         226909 non-null  object \n",
      "dtypes: float64(1), int64(1), object(2)\n",
      "memory usage: 6.9+ MB\n"
     ]
    }
   ],
   "source": [
    "df_orders_copy.info()"
   ]
  },
  {
   "cell_type": "code",
   "execution_count": 9,
   "metadata": {
    "colab": {
     "base_uri": "https://localhost:8080/"
    },
    "id": "nrwvmnoSVNWF",
    "outputId": "32e38d4a-e1f2-48a3-f2a3-3287d21de6e0"
   },
   "outputs": [
    {
     "name": "stdout",
     "output_type": "stream",
     "text": [
      "<class 'pandas.core.frame.DataFrame'>\n",
      "RangeIndex: 293983 entries, 0 to 293982\n",
      "Data columns (total 7 columns):\n",
      " #   Column            Non-Null Count   Dtype \n",
      "---  ------            --------------   ----- \n",
      " 0   id                293983 non-null  int64 \n",
      " 1   id_order          293983 non-null  int64 \n",
      " 2   product_id        293983 non-null  int64 \n",
      " 3   product_quantity  293983 non-null  int64 \n",
      " 4   sku               293983 non-null  object\n",
      " 5   unit_price        293983 non-null  object\n",
      " 6   date              293983 non-null  object\n",
      "dtypes: int64(4), object(3)\n",
      "memory usage: 15.7+ MB\n"
     ]
    }
   ],
   "source": [
    "df_orderlines_copy.info()"
   ]
  },
  {
   "cell_type": "code",
   "execution_count": 10,
   "metadata": {
    "colab": {
     "base_uri": "https://localhost:8080/"
    },
    "id": "ccvZ5HlbWKYH",
    "outputId": "bf25dcc7-eafb-42bb-a454-1a528a4b41c8"
   },
   "outputs": [
    {
     "name": "stdout",
     "output_type": "stream",
     "text": [
      "<class 'pandas.core.frame.DataFrame'>\n",
      "Index: 10580 entries, 0 to 19325\n",
      "Data columns (total 7 columns):\n",
      " #   Column       Non-Null Count  Dtype \n",
      "---  ------       --------------  ----- \n",
      " 0   sku          10580 non-null  object\n",
      " 1   name         10580 non-null  object\n",
      " 2   desc         10573 non-null  object\n",
      " 3   price        10534 non-null  object\n",
      " 4   promo_price  10580 non-null  object\n",
      " 5   in_stock     10580 non-null  int64 \n",
      " 6   type         10530 non-null  object\n",
      "dtypes: int64(1), object(6)\n",
      "memory usage: 661.2+ KB\n"
     ]
    }
   ],
   "source": [
    "df_prod_copy.info()"
   ]
  },
  {
   "cell_type": "code",
   "execution_count": 11,
   "metadata": {
    "colab": {
     "base_uri": "https://localhost:8080/"
    },
    "id": "mZQLYj4iWVqy",
    "outputId": "db975d7a-cc82-4ccd-f647-f58a0eda12db"
   },
   "outputs": [
    {
     "name": "stdout",
     "output_type": "stream",
     "text": [
      "<class 'pandas.core.frame.DataFrame'>\n",
      "RangeIndex: 187 entries, 0 to 186\n",
      "Data columns (total 2 columns):\n",
      " #   Column  Non-Null Count  Dtype \n",
      "---  ------  --------------  ----- \n",
      " 0   short   187 non-null    object\n",
      " 1   long    187 non-null    object\n",
      "dtypes: object(2)\n",
      "memory usage: 3.1+ KB\n"
     ]
    }
   ],
   "source": [
    "df_brands_copy.info()"
   ]
  },
  {
   "cell_type": "markdown",
   "metadata": {
    "id": "k8rSJYDTWv4e"
   },
   "source": [
    "##**3.  Missing values**"
   ]
  },
  {
   "cell_type": "code",
   "execution_count": 12,
   "metadata": {
    "colab": {
     "base_uri": "https://localhost:8080/"
    },
    "id": "fzScnAPoXB44",
    "outputId": "dd7c444b-613a-42af-91e1-f7fe27fe8e70"
   },
   "outputs": [
    {
     "data": {
      "text/plain": [
       "order_id        0\n",
       "created_date    0\n",
       "total_paid      5\n",
       "state           0\n",
       "dtype: int64"
      ]
     },
     "execution_count": 12,
     "metadata": {},
     "output_type": "execute_result"
    }
   ],
   "source": [
    "df_orders_copy.isna().sum()"
   ]
  },
  {
   "cell_type": "code",
   "execution_count": 13,
   "metadata": {
    "colab": {
     "base_uri": "https://localhost:8080/"
    },
    "id": "cYfZnLCtWnvj",
    "outputId": "47237339-ed58-418c-8a2c-a323b1d469c5"
   },
   "outputs": [
    {
     "data": {
      "text/plain": [
       "id                  0\n",
       "id_order            0\n",
       "product_id          0\n",
       "product_quantity    0\n",
       "sku                 0\n",
       "unit_price          0\n",
       "date                0\n",
       "dtype: int64"
      ]
     },
     "execution_count": 13,
     "metadata": {},
     "output_type": "execute_result"
    }
   ],
   "source": [
    "df_orderlines_copy.isna().sum()"
   ]
  },
  {
   "cell_type": "code",
   "execution_count": 14,
   "metadata": {
    "colab": {
     "base_uri": "https://localhost:8080/"
    },
    "id": "db642YdJW9sw",
    "outputId": "b8a9eef6-01fd-45b3-fc51-29149c31fa59"
   },
   "outputs": [
    {
     "data": {
      "text/plain": [
       "sku             0\n",
       "name            0\n",
       "desc            7\n",
       "price          46\n",
       "promo_price     0\n",
       "in_stock        0\n",
       "type           50\n",
       "dtype: int64"
      ]
     },
     "execution_count": 14,
     "metadata": {},
     "output_type": "execute_result"
    }
   ],
   "source": [
    "df_prod_copy.isna().sum()"
   ]
  },
  {
   "cell_type": "code",
   "execution_count": 15,
   "metadata": {
    "colab": {
     "base_uri": "https://localhost:8080/"
    },
    "id": "oqi9cAw3Y-ot",
    "outputId": "f793296b-6353-42f1-d63d-c2e0b6443664"
   },
   "outputs": [
    {
     "name": "stdout",
     "output_type": "stream",
     "text": [
      "46 missing values represents only 0.43% of the rows in products DataFrame\n"
     ]
    }
   ],
   "source": [
    "print(f\"{(df_prod_copy.price.isna().sum())} missing values represents only {((df_prod_copy.price.isna().sum()/df_prod_copy.shape[0]*100).round(2))}% of the rows in products DataFrame\")"
   ]
  },
  {
   "cell_type": "markdown",
   "metadata": {
    "id": "5Vhp6xK-aKnS"
   },
   "source": [
    "**Therefore, we decided to drop the 46 rows**"
   ]
  },
  {
   "cell_type": "code",
   "execution_count": 16,
   "metadata": {
    "id": "-Za7zC5KbQfT"
   },
   "outputs": [],
   "source": [
    "#Find the index of missing data in product dataframe\n",
    "indices_with_nan_price = df_prod_copy[df_prod_copy['price'].isna()].index"
   ]
  },
  {
   "cell_type": "code",
   "execution_count": 17,
   "metadata": {
    "id": "YbMwWW0OaRVw"
   },
   "outputs": [],
   "source": [
    "#Drop the rows with missing data\n",
    "df_prod_copy.drop(indices_with_nan_price, inplace=True)"
   ]
  },
  {
   "cell_type": "code",
   "execution_count": 18,
   "metadata": {
    "colab": {
     "base_uri": "https://localhost:8080/"
    },
    "id": "vb8c15B11ZBd",
    "outputId": "cb92f9c9-d53d-4c04-b1d7-3bd5d76846de"
   },
   "outputs": [
    {
     "name": "stdout",
     "output_type": "stream",
     "text": [
      "<class 'pandas.core.frame.DataFrame'>\n",
      "Index: 10534 entries, 0 to 19325\n",
      "Data columns (total 7 columns):\n",
      " #   Column       Non-Null Count  Dtype \n",
      "---  ------       --------------  ----- \n",
      " 0   sku          10534 non-null  object\n",
      " 1   name         10534 non-null  object\n",
      " 2   desc         10527 non-null  object\n",
      " 3   price        10534 non-null  object\n",
      " 4   promo_price  10534 non-null  object\n",
      " 5   in_stock     10534 non-null  int64 \n",
      " 6   type         10484 non-null  object\n",
      "dtypes: int64(1), object(6)\n",
      "memory usage: 658.4+ KB\n"
     ]
    }
   ],
   "source": [
    "df_prod_copy.info()"
   ]
  },
  {
   "cell_type": "code",
   "execution_count": 19,
   "metadata": {
    "colab": {
     "base_uri": "https://localhost:8080/"
    },
    "id": "bRod2mhrXKnm",
    "outputId": "a234ec82-4d49-41a7-c0cf-ed034df29efb"
   },
   "outputs": [
    {
     "data": {
      "text/plain": [
       "short    0\n",
       "long     0\n",
       "dtype: int64"
      ]
     },
     "execution_count": 19,
     "metadata": {},
     "output_type": "execute_result"
    }
   ],
   "source": [
    "df_brands_copy.isna().sum()"
   ]
  },
  {
   "cell_type": "markdown",
   "metadata": {
    "id": "aYfKHPKz18yJ"
   },
   "source": [
    "##**4.  Datatypes**"
   ]
  },
  {
   "cell_type": "markdown",
   "metadata": {
    "id": "g5LzfHsR3LfX"
   },
   "source": [
    "#**4.1. Dates**"
   ]
  },
  {
   "cell_type": "code",
   "execution_count": 20,
   "metadata": {
    "id": "yJ5FzcGMXPh7"
   },
   "outputs": [],
   "source": [
    "df_orders_copy[\"created_date\"] = pd.to_datetime(df_orders_copy[\"created_date\"])"
   ]
  },
  {
   "cell_type": "code",
   "execution_count": 21,
   "metadata": {
    "colab": {
     "base_uri": "https://localhost:8080/"
    },
    "id": "3YFU3yUA2Ir4",
    "outputId": "f45f6cac-70c7-47c9-c461-e68e27c99481"
   },
   "outputs": [
    {
     "name": "stdout",
     "output_type": "stream",
     "text": [
      "<class 'pandas.core.frame.DataFrame'>\n",
      "RangeIndex: 226909 entries, 0 to 226908\n",
      "Data columns (total 4 columns):\n",
      " #   Column        Non-Null Count   Dtype         \n",
      "---  ------        --------------   -----         \n",
      " 0   order_id      226909 non-null  int64         \n",
      " 1   created_date  226909 non-null  datetime64[ns]\n",
      " 2   total_paid    226904 non-null  float64       \n",
      " 3   state         226909 non-null  object        \n",
      "dtypes: datetime64[ns](1), float64(1), int64(1), object(1)\n",
      "memory usage: 6.9+ MB\n"
     ]
    }
   ],
   "source": [
    "df_orders_copy.info()"
   ]
  },
  {
   "cell_type": "code",
   "execution_count": 22,
   "metadata": {
    "id": "AO1_weq_2rrL"
   },
   "outputs": [],
   "source": [
    "df_orderlines_copy[\"date\"] = pd.to_datetime(df_orderlines_copy[\"date\"])"
   ]
  },
  {
   "cell_type": "code",
   "execution_count": 23,
   "metadata": {
    "colab": {
     "base_uri": "https://localhost:8080/"
    },
    "id": "y7SuugS124y-",
    "outputId": "dbfe3491-1e0d-498f-bf9c-085e2ba43a4b"
   },
   "outputs": [
    {
     "name": "stdout",
     "output_type": "stream",
     "text": [
      "<class 'pandas.core.frame.DataFrame'>\n",
      "RangeIndex: 293983 entries, 0 to 293982\n",
      "Data columns (total 7 columns):\n",
      " #   Column            Non-Null Count   Dtype         \n",
      "---  ------            --------------   -----         \n",
      " 0   id                293983 non-null  int64         \n",
      " 1   id_order          293983 non-null  int64         \n",
      " 2   product_id        293983 non-null  int64         \n",
      " 3   product_quantity  293983 non-null  int64         \n",
      " 4   sku               293983 non-null  object        \n",
      " 5   unit_price        293983 non-null  object        \n",
      " 6   date              293983 non-null  datetime64[ns]\n",
      "dtypes: datetime64[ns](1), int64(4), object(2)\n",
      "memory usage: 15.7+ MB\n"
     ]
    }
   ],
   "source": [
    "df_orderlines_copy.info()"
   ]
  },
  {
   "cell_type": "markdown",
   "metadata": {
    "id": "D8YPIBgL3WK2"
   },
   "source": [
    "#**4.2. Prices**"
   ]
  },
  {
   "cell_type": "markdown",
   "metadata": {
    "id": "mdX57hud7UuF"
   },
   "source": [
    "## 4.2.1. Orders and orderlines"
   ]
  },
  {
   "cell_type": "code",
   "execution_count": 24,
   "metadata": {
    "colab": {
     "base_uri": "https://localhost:8080/"
    },
    "id": "4Ub49VZ428He",
    "outputId": "e4c4d141-85fc-425e-adcc-f482da55bd77"
   },
   "outputs": [
    {
     "data": {
      "text/plain": [
       "unit_price\n",
       "False    257814\n",
       "True      36169\n",
       "Name: count, dtype: int64"
      ]
     },
     "execution_count": 24,
     "metadata": {},
     "output_type": "execute_result"
    }
   ],
   "source": [
    "df_orderlines_copy.unit_price.str.contains(\"\\d+\\.\\d+\\.\\d+\").value_counts()"
   ]
  },
  {
   "cell_type": "code",
   "execution_count": 25,
   "metadata": {
    "colab": {
     "base_uri": "https://localhost:8080/"
    },
    "id": "RROfwKzi3j48",
    "outputId": "e48f54d0-9cf6-4e47-9601-f2d434c4c61f"
   },
   "outputs": [
    {
     "name": "stdout",
     "output_type": "stream",
     "text": [
      "The 2 dot problem represents 12.3% of the rows in our DataFrame\n"
     ]
    }
   ],
   "source": [
    "two_dot_percentage = ((df_orderlines_copy.unit_price.str.contains(\"\\d+\\.\\d+\\.\\d+\").value_counts()[1] / df_orderlines_copy.shape[0])*100).round(2)\n",
    "print(f\"The 2 dot problem represents {two_dot_percentage}% of the rows in our DataFrame\")"
   ]
  },
  {
   "cell_type": "code",
   "execution_count": 26,
   "metadata": {
    "id": "GLvp51Y6338Z"
   },
   "outputs": [],
   "source": [
    "two_dot_order_ids_list = df_orderlines_copy.loc[df_orderlines_copy.unit_price.str.contains(\"\\d+\\.\\d+\\.\\d+\"), \"id_order\"]\n",
    "df_orderlines_copy = df_orderlines_copy.loc[~df_orderlines_copy.id_order.isin(two_dot_order_ids_list)]"
   ]
  },
  {
   "cell_type": "code",
   "execution_count": 27,
   "metadata": {
    "colab": {
     "base_uri": "https://localhost:8080/"
    },
    "id": "8XYgNpAW4FTp",
    "outputId": "0335c18e-aa45-4710-847f-5c4b5f0e32a4"
   },
   "outputs": [
    {
     "data": {
      "text/plain": [
       "216250"
      ]
     },
     "execution_count": 27,
     "metadata": {},
     "output_type": "execute_result"
    }
   ],
   "source": [
    "df_orderlines_copy.shape[0]"
   ]
  },
  {
   "cell_type": "code",
   "execution_count": 28,
   "metadata": {
    "id": "1J2N4Amk4Jal"
   },
   "outputs": [],
   "source": [
    "df_orderlines_copy[\"unit_price\"] = pd.to_numeric(df_orderlines_copy[\"unit_price\"])"
   ]
  },
  {
   "cell_type": "code",
   "execution_count": 29,
   "metadata": {
    "colab": {
     "base_uri": "https://localhost:8080/"
    },
    "id": "2bNr0T9W4TK4",
    "outputId": "1a78886d-daf7-4633-a50a-ca8f3202b9b3"
   },
   "outputs": [
    {
     "name": "stdout",
     "output_type": "stream",
     "text": [
      "<class 'pandas.core.frame.DataFrame'>\n",
      "Index: 216250 entries, 0 to 293982\n",
      "Data columns (total 7 columns):\n",
      " #   Column            Non-Null Count   Dtype         \n",
      "---  ------            --------------   -----         \n",
      " 0   id                216250 non-null  int64         \n",
      " 1   id_order          216250 non-null  int64         \n",
      " 2   product_id        216250 non-null  int64         \n",
      " 3   product_quantity  216250 non-null  int64         \n",
      " 4   sku               216250 non-null  object        \n",
      " 5   unit_price        216250 non-null  float64       \n",
      " 6   date              216250 non-null  datetime64[ns]\n",
      "dtypes: datetime64[ns](1), float64(1), int64(4), object(1)\n",
      "memory usage: 13.2+ MB\n"
     ]
    }
   ],
   "source": [
    "df_orderlines_copy.info()"
   ]
  },
  {
   "cell_type": "code",
   "execution_count": 30,
   "metadata": {
    "colab": {
     "base_uri": "https://localhost:8080/"
    },
    "id": "efYKsq8Q70Ly",
    "outputId": "86d0baaa-c06f-45ad-86a6-94dff1bb25d6"
   },
   "outputs": [
    {
     "name": "stdout",
     "output_type": "stream",
     "text": [
      "<class 'pandas.core.frame.DataFrame'>\n",
      "RangeIndex: 226909 entries, 0 to 226908\n",
      "Data columns (total 4 columns):\n",
      " #   Column        Non-Null Count   Dtype         \n",
      "---  ------        --------------   -----         \n",
      " 0   order_id      226909 non-null  int64         \n",
      " 1   created_date  226909 non-null  datetime64[ns]\n",
      " 2   total_paid    226904 non-null  float64       \n",
      " 3   state         226909 non-null  object        \n",
      "dtypes: datetime64[ns](1), float64(1), int64(1), object(1)\n",
      "memory usage: 6.9+ MB\n"
     ]
    }
   ],
   "source": [
    "df_orders_copy.info()"
   ]
  },
  {
   "cell_type": "markdown",
   "metadata": {
    "id": "9j2UZHn37giN"
   },
   "source": [
    "## 4.2.2. Product dataframe"
   ]
  },
  {
   "cell_type": "markdown",
   "metadata": {
    "id": "wC5YOCd4AvMA"
   },
   "source": [
    "## 4.2.2.1 Price"
   ]
  },
  {
   "cell_type": "code",
   "execution_count": 31,
   "metadata": {
    "colab": {
     "base_uri": "https://localhost:8080/"
    },
    "id": "MoTfnUx34Ybo",
    "outputId": "0591e065-26b9-494d-994a-397cbc90f815"
   },
   "outputs": [
    {
     "name": "stdout",
     "output_type": "stream",
     "text": [
      "<class 'pandas.core.frame.DataFrame'>\n",
      "Index: 10534 entries, 0 to 19325\n",
      "Data columns (total 7 columns):\n",
      " #   Column       Non-Null Count  Dtype \n",
      "---  ------       --------------  ----- \n",
      " 0   sku          10534 non-null  object\n",
      " 1   name         10534 non-null  object\n",
      " 2   desc         10527 non-null  object\n",
      " 3   price        10534 non-null  object\n",
      " 4   promo_price  10534 non-null  object\n",
      " 5   in_stock     10534 non-null  int64 \n",
      " 6   type         10484 non-null  object\n",
      "dtypes: int64(1), object(6)\n",
      "memory usage: 658.4+ KB\n"
     ]
    }
   ],
   "source": [
    "df_prod_copy.info()"
   ]
  },
  {
   "cell_type": "code",
   "execution_count": 32,
   "metadata": {
    "colab": {
     "base_uri": "https://localhost:8080/",
     "height": 363
    },
    "id": "bFNoh4CR77mQ",
    "outputId": "3446bef4-f5c7-4de3-e426-2f61667746e7"
   },
   "outputs": [
    {
     "data": {
      "text/html": [
       "<div>\n",
       "<style scoped>\n",
       "    .dataframe tbody tr th:only-of-type {\n",
       "        vertical-align: middle;\n",
       "    }\n",
       "\n",
       "    .dataframe tbody tr th {\n",
       "        vertical-align: top;\n",
       "    }\n",
       "\n",
       "    .dataframe thead th {\n",
       "        text-align: right;\n",
       "    }\n",
       "</style>\n",
       "<table border=\"1\" class=\"dataframe\">\n",
       "  <thead>\n",
       "    <tr style=\"text-align: right;\">\n",
       "      <th></th>\n",
       "      <th>sku</th>\n",
       "      <th>name</th>\n",
       "      <th>desc</th>\n",
       "      <th>price</th>\n",
       "      <th>promo_price</th>\n",
       "      <th>in_stock</th>\n",
       "      <th>type</th>\n",
       "    </tr>\n",
       "  </thead>\n",
       "  <tbody>\n",
       "    <tr>\n",
       "      <th>0</th>\n",
       "      <td>RAI0007</td>\n",
       "      <td>Silver Rain Design mStand Support</td>\n",
       "      <td>Aluminum support compatible with all MacBook</td>\n",
       "      <td>59.99</td>\n",
       "      <td>499.899</td>\n",
       "      <td>1</td>\n",
       "      <td>8696</td>\n",
       "    </tr>\n",
       "    <tr>\n",
       "      <th>1</th>\n",
       "      <td>APP0023</td>\n",
       "      <td>Apple Mac Keyboard Keypad Spanish</td>\n",
       "      <td>USB ultrathin keyboard Apple Mac Spanish.</td>\n",
       "      <td>59</td>\n",
       "      <td>589.996</td>\n",
       "      <td>0</td>\n",
       "      <td>13855401</td>\n",
       "    </tr>\n",
       "    <tr>\n",
       "      <th>2</th>\n",
       "      <td>APP0025</td>\n",
       "      <td>Mighty Mouse Apple Mouse for Mac</td>\n",
       "      <td>mouse Apple USB cable.</td>\n",
       "      <td>59</td>\n",
       "      <td>569.898</td>\n",
       "      <td>0</td>\n",
       "      <td>1387</td>\n",
       "    </tr>\n",
       "    <tr>\n",
       "      <th>3</th>\n",
       "      <td>APP0072</td>\n",
       "      <td>Apple Dock to USB Cable iPhone and iPod white</td>\n",
       "      <td>IPhone dock and USB Cable Apple iPod.</td>\n",
       "      <td>25</td>\n",
       "      <td>229.997</td>\n",
       "      <td>0</td>\n",
       "      <td>1230</td>\n",
       "    </tr>\n",
       "    <tr>\n",
       "      <th>4</th>\n",
       "      <td>KIN0007</td>\n",
       "      <td>Mac Memory Kingston 2GB 667MHz DDR2 SO-DIMM</td>\n",
       "      <td>2GB RAM Mac mini and iMac (2006/07) MacBook Pr...</td>\n",
       "      <td>34.99</td>\n",
       "      <td>31.99</td>\n",
       "      <td>1</td>\n",
       "      <td>1364</td>\n",
       "    </tr>\n",
       "    <tr>\n",
       "      <th>5</th>\n",
       "      <td>APP0073</td>\n",
       "      <td>Apple Composite AV Cable iPhone and iPod white</td>\n",
       "      <td>IPhone and iPod AV Cable Dock to Composite Video.</td>\n",
       "      <td>45</td>\n",
       "      <td>420.003</td>\n",
       "      <td>0</td>\n",
       "      <td>1230</td>\n",
       "    </tr>\n",
       "    <tr>\n",
       "      <th>6</th>\n",
       "      <td>KIN0008</td>\n",
       "      <td>Mac Memory Kingston 1GB 667MHz DDR2 SO-DIMM</td>\n",
       "      <td>1GB RAM Mac mini and iMac (2006/07) MacBook Pr...</td>\n",
       "      <td>18.99</td>\n",
       "      <td>146.471</td>\n",
       "      <td>0</td>\n",
       "      <td>1364</td>\n",
       "    </tr>\n",
       "    <tr>\n",
       "      <th>7</th>\n",
       "      <td>KIN0009</td>\n",
       "      <td>Mac Memory Kingston 2GB 800MHz DDR2 SO-DIMM</td>\n",
       "      <td>2GB RAM iMac with Intel Core 2 Duo (Penryn).</td>\n",
       "      <td>36.99</td>\n",
       "      <td>274.694</td>\n",
       "      <td>0</td>\n",
       "      <td>1364</td>\n",
       "    </tr>\n",
       "    <tr>\n",
       "      <th>8</th>\n",
       "      <td>KIN0001-2</td>\n",
       "      <td>Mac memory Kingston 4GB (2x2GB) 667MHz DDR2 SO...</td>\n",
       "      <td>RAM 4GB (2x2GB) Mac mini and iMac (2006/07) Ma...</td>\n",
       "      <td>74</td>\n",
       "      <td>669.904</td>\n",
       "      <td>0</td>\n",
       "      <td>1364</td>\n",
       "    </tr>\n",
       "    <tr>\n",
       "      <th>9</th>\n",
       "      <td>APP0100</td>\n",
       "      <td>Apple Adapter Mini Display Port to VGA</td>\n",
       "      <td>Adapter Mini Display Port to VGA MacBook and M...</td>\n",
       "      <td>35</td>\n",
       "      <td>330.003</td>\n",
       "      <td>0</td>\n",
       "      <td>1325</td>\n",
       "    </tr>\n",
       "  </tbody>\n",
       "</table>\n",
       "</div>"
      ],
      "text/plain": [
       "         sku                                               name  \\\n",
       "0    RAI0007                  Silver Rain Design mStand Support   \n",
       "1    APP0023                  Apple Mac Keyboard Keypad Spanish   \n",
       "2    APP0025                   Mighty Mouse Apple Mouse for Mac   \n",
       "3    APP0072      Apple Dock to USB Cable iPhone and iPod white   \n",
       "4    KIN0007        Mac Memory Kingston 2GB 667MHz DDR2 SO-DIMM   \n",
       "5    APP0073     Apple Composite AV Cable iPhone and iPod white   \n",
       "6    KIN0008        Mac Memory Kingston 1GB 667MHz DDR2 SO-DIMM   \n",
       "7    KIN0009        Mac Memory Kingston 2GB 800MHz DDR2 SO-DIMM   \n",
       "8  KIN0001-2  Mac memory Kingston 4GB (2x2GB) 667MHz DDR2 SO...   \n",
       "9    APP0100             Apple Adapter Mini Display Port to VGA   \n",
       "\n",
       "                                                desc  price promo_price  \\\n",
       "0       Aluminum support compatible with all MacBook  59.99     499.899   \n",
       "1          USB ultrathin keyboard Apple Mac Spanish.     59     589.996   \n",
       "2                             mouse Apple USB cable.     59     569.898   \n",
       "3              IPhone dock and USB Cable Apple iPod.     25     229.997   \n",
       "4  2GB RAM Mac mini and iMac (2006/07) MacBook Pr...  34.99       31.99   \n",
       "5  IPhone and iPod AV Cable Dock to Composite Video.     45     420.003   \n",
       "6  1GB RAM Mac mini and iMac (2006/07) MacBook Pr...  18.99     146.471   \n",
       "7       2GB RAM iMac with Intel Core 2 Duo (Penryn).  36.99     274.694   \n",
       "8  RAM 4GB (2x2GB) Mac mini and iMac (2006/07) Ma...     74     669.904   \n",
       "9  Adapter Mini Display Port to VGA MacBook and M...     35     330.003   \n",
       "\n",
       "   in_stock      type  \n",
       "0         1      8696  \n",
       "1         0  13855401  \n",
       "2         0      1387  \n",
       "3         0      1230  \n",
       "4         1      1364  \n",
       "5         0      1230  \n",
       "6         0      1364  \n",
       "7         0      1364  \n",
       "8         0      1364  \n",
       "9         0      1325  "
      ]
     },
     "execution_count": 32,
     "metadata": {},
     "output_type": "execute_result"
    }
   ],
   "source": [
    "df_prod_copy.head(10)"
   ]
  },
  {
   "cell_type": "code",
   "execution_count": 33,
   "metadata": {
    "colab": {
     "base_uri": "https://localhost:8080/",
     "height": 206
    },
    "id": "nrlBKdoS8D-3",
    "outputId": "11030beb-e992-4a63-f2e8-7ee87e0d6a49"
   },
   "outputs": [
    {
     "data": {
      "text/html": [
       "<div>\n",
       "<style scoped>\n",
       "    .dataframe tbody tr th:only-of-type {\n",
       "        vertical-align: middle;\n",
       "    }\n",
       "\n",
       "    .dataframe tbody tr th {\n",
       "        vertical-align: top;\n",
       "    }\n",
       "\n",
       "    .dataframe thead th {\n",
       "        text-align: right;\n",
       "    }\n",
       "</style>\n",
       "<table border=\"1\" class=\"dataframe\">\n",
       "  <thead>\n",
       "    <tr style=\"text-align: right;\">\n",
       "      <th></th>\n",
       "      <th>sku</th>\n",
       "      <th>name</th>\n",
       "      <th>desc</th>\n",
       "      <th>price</th>\n",
       "      <th>promo_price</th>\n",
       "      <th>in_stock</th>\n",
       "      <th>type</th>\n",
       "    </tr>\n",
       "  </thead>\n",
       "  <tbody>\n",
       "    <tr>\n",
       "      <th>19321</th>\n",
       "      <td>BEL0376</td>\n",
       "      <td>Belkin Travel Support Apple Watch Black</td>\n",
       "      <td>compact and portable stand vertically or horiz...</td>\n",
       "      <td>29.99</td>\n",
       "      <td>269.903</td>\n",
       "      <td>1</td>\n",
       "      <td>12282</td>\n",
       "    </tr>\n",
       "    <tr>\n",
       "      <th>19322</th>\n",
       "      <td>THU0060</td>\n",
       "      <td>Enroute Thule 14L Backpack MacBook 13 \"Black</td>\n",
       "      <td>Backpack with capacity of 14 liter compartment...</td>\n",
       "      <td>69.95</td>\n",
       "      <td>649.903</td>\n",
       "      <td>1</td>\n",
       "      <td>1392</td>\n",
       "    </tr>\n",
       "    <tr>\n",
       "      <th>19323</th>\n",
       "      <td>THU0061</td>\n",
       "      <td>Enroute Thule 14L Backpack MacBook 13 \"Blue</td>\n",
       "      <td>Backpack with capacity of 14 liter compartment...</td>\n",
       "      <td>69.95</td>\n",
       "      <td>649.903</td>\n",
       "      <td>1</td>\n",
       "      <td>1392</td>\n",
       "    </tr>\n",
       "    <tr>\n",
       "      <th>19324</th>\n",
       "      <td>THU0062</td>\n",
       "      <td>Enroute Thule 14L Backpack MacBook 13 \"Red</td>\n",
       "      <td>Backpack with capacity of 14 liter compartment...</td>\n",
       "      <td>69.95</td>\n",
       "      <td>649.903</td>\n",
       "      <td>0</td>\n",
       "      <td>1392</td>\n",
       "    </tr>\n",
       "    <tr>\n",
       "      <th>19325</th>\n",
       "      <td>THU0063</td>\n",
       "      <td>Enroute Thule 14L Backpack MacBook 13 \"Green</td>\n",
       "      <td>Backpack with capacity of 14 liter compartment...</td>\n",
       "      <td>69.95</td>\n",
       "      <td>649.903</td>\n",
       "      <td>1</td>\n",
       "      <td>1392</td>\n",
       "    </tr>\n",
       "  </tbody>\n",
       "</table>\n",
       "</div>"
      ],
      "text/plain": [
       "           sku                                          name  \\\n",
       "19321  BEL0376       Belkin Travel Support Apple Watch Black   \n",
       "19322  THU0060  Enroute Thule 14L Backpack MacBook 13 \"Black   \n",
       "19323  THU0061   Enroute Thule 14L Backpack MacBook 13 \"Blue   \n",
       "19324  THU0062    Enroute Thule 14L Backpack MacBook 13 \"Red   \n",
       "19325  THU0063  Enroute Thule 14L Backpack MacBook 13 \"Green   \n",
       "\n",
       "                                                    desc  price promo_price  \\\n",
       "19321  compact and portable stand vertically or horiz...  29.99     269.903   \n",
       "19322  Backpack with capacity of 14 liter compartment...  69.95     649.903   \n",
       "19323  Backpack with capacity of 14 liter compartment...  69.95     649.903   \n",
       "19324  Backpack with capacity of 14 liter compartment...  69.95     649.903   \n",
       "19325  Backpack with capacity of 14 liter compartment...  69.95     649.903   \n",
       "\n",
       "       in_stock   type  \n",
       "19321         1  12282  \n",
       "19322         1   1392  \n",
       "19323         1   1392  \n",
       "19324         0   1392  \n",
       "19325         1   1392  "
      ]
     },
     "execution_count": 33,
     "metadata": {},
     "output_type": "execute_result"
    }
   ],
   "source": [
    "df_prod_copy.tail()"
   ]
  },
  {
   "cell_type": "code",
   "execution_count": 34,
   "metadata": {
    "colab": {
     "base_uri": "https://localhost:8080/"
    },
    "id": "hQN-ccdaA9Tp",
    "outputId": "942d2843-8dca-443a-90d8-f34d6cff165c"
   },
   "outputs": [
    {
     "data": {
      "text/plain": [
       "price\n",
       "False    10157\n",
       "True       377\n",
       "Name: count, dtype: int64"
      ]
     },
     "execution_count": 34,
     "metadata": {},
     "output_type": "execute_result"
    }
   ],
   "source": [
    "df_prod_copy.price.str.contains(\"\\d+\\.\\d+\\.\\d+\").value_counts()"
   ]
  },
  {
   "cell_type": "code",
   "execution_count": 35,
   "metadata": {
    "colab": {
     "base_uri": "https://localhost:8080/"
    },
    "id": "yXK0sBkHBLBM",
    "outputId": "69fb13de-1d95-4a7a-cff1-eac521c525a3"
   },
   "outputs": [
    {
     "name": "stdout",
     "output_type": "stream",
     "text": [
      "The 2 dot problem represents 3.58% of the rows in our DataFrame\n"
     ]
    }
   ],
   "source": [
    "two_dot_percentage_price_prod = ((df_prod_copy.price.str.contains(\"\\d+\\.\\d+\\.\\d+\").value_counts()[1] / df_prod_copy.shape[0])*100).round(2)\n",
    "print(f\"The 2 dot problem represents {two_dot_percentage_price_prod}% of the rows in our DataFrame\")"
   ]
  },
  {
   "cell_type": "markdown",
   "metadata": {
    "id": "1KTeCBVBBY15"
   },
   "source": [
    "We will drop all rows that have price with double dots"
   ]
  },
  {
   "cell_type": "code",
   "execution_count": 36,
   "metadata": {
    "id": "PA52vNx9BqN4"
   },
   "outputs": [],
   "source": [
    "condition_to_drop = df_prod_copy['price'].str.contains(\"\\d+\\.\\d+\\.\\d+\")\n",
    "df_prod_copy = df_prod_copy[~condition_to_drop]"
   ]
  },
  {
   "cell_type": "code",
   "execution_count": 37,
   "metadata": {
    "colab": {
     "base_uri": "https://localhost:8080/"
    },
    "id": "OE6Au_nvCpiJ",
    "outputId": "e9e690d4-d06c-4a69-bea5-45a9bf84235a"
   },
   "outputs": [],
   "source": [
    "df_prod_copy['price'] = pd.to_numeric(df_prod_copy['price'])"
   ]
  },
  {
   "cell_type": "code",
   "execution_count": 38,
   "metadata": {
    "colab": {
     "base_uri": "https://localhost:8080/"
    },
    "id": "1KgX0GlJDAos",
    "outputId": "c8221110-d7b9-4109-c734-873afd739309"
   },
   "outputs": [
    {
     "name": "stdout",
     "output_type": "stream",
     "text": [
      "<class 'pandas.core.frame.DataFrame'>\n",
      "Index: 10157 entries, 0 to 19325\n",
      "Data columns (total 7 columns):\n",
      " #   Column       Non-Null Count  Dtype  \n",
      "---  ------       --------------  -----  \n",
      " 0   sku          10157 non-null  object \n",
      " 1   name         10157 non-null  object \n",
      " 2   desc         10151 non-null  object \n",
      " 3   price        10157 non-null  float64\n",
      " 4   promo_price  10157 non-null  object \n",
      " 5   in_stock     10157 non-null  int64  \n",
      " 6   type         10110 non-null  object \n",
      "dtypes: float64(1), int64(1), object(5)\n",
      "memory usage: 634.8+ KB\n"
     ]
    }
   ],
   "source": [
    "df_prod_copy.info()"
   ]
  },
  {
   "cell_type": "code",
   "execution_count": 39,
   "metadata": {
    "colab": {
     "base_uri": "https://localhost:8080/"
    },
    "id": "oSX-MRVBCX-2",
    "outputId": "94b1fb76-d394-49ce-9124-03d08f714d8b"
   },
   "outputs": [
    {
     "data": {
      "text/plain": [
       "663.1246286305011"
      ]
     },
     "execution_count": 39,
     "metadata": {},
     "output_type": "execute_result"
    }
   ],
   "source": [
    "df_prod_copy['price'].mean()"
   ]
  },
  {
   "cell_type": "markdown",
   "metadata": {
    "id": "9psXKaV9A158"
   },
   "source": [
    "##4.2.2.2. Promo_Price"
   ]
  },
  {
   "cell_type": "code",
   "execution_count": 40,
   "metadata": {
    "colab": {
     "base_uri": "https://localhost:8080/"
    },
    "id": "Yc-PUa5j8J3V",
    "outputId": "73daaead-a918-4fab-e49c-5cdfc272ef82"
   },
   "outputs": [
    {
     "data": {
      "text/plain": [
       "promo_price\n",
       "False    5836\n",
       "True     4321\n",
       "Name: count, dtype: int64"
      ]
     },
     "execution_count": 40,
     "metadata": {},
     "output_type": "execute_result"
    }
   ],
   "source": [
    "df_prod_copy.promo_price.str.contains(\"\\d+\\.\\d+\\.\\d+\").value_counts()"
   ]
  },
  {
   "cell_type": "code",
   "execution_count": 41,
   "metadata": {
    "id": "KNi2dVY78pRi"
   },
   "outputs": [],
   "source": [
    "indices_with_double_dots_promoprice = df_prod_copy[df_prod_copy.promo_price.str.contains(\"\\d+\\.\\d+\\.\\d+\")].index"
   ]
  },
  {
   "cell_type": "code",
   "execution_count": 42,
   "metadata": {
    "colab": {
     "base_uri": "https://localhost:8080/",
     "height": 424
    },
    "id": "UiMDY4LOD1On",
    "outputId": "607fc738-1c93-4821-b882-f8d06c15c82b"
   },
   "outputs": [
    {
     "data": {
      "text/html": [
       "<div>\n",
       "<style scoped>\n",
       "    .dataframe tbody tr th:only-of-type {\n",
       "        vertical-align: middle;\n",
       "    }\n",
       "\n",
       "    .dataframe tbody tr th {\n",
       "        vertical-align: top;\n",
       "    }\n",
       "\n",
       "    .dataframe thead th {\n",
       "        text-align: right;\n",
       "    }\n",
       "</style>\n",
       "<table border=\"1\" class=\"dataframe\">\n",
       "  <thead>\n",
       "    <tr style=\"text-align: right;\">\n",
       "      <th></th>\n",
       "      <th>sku</th>\n",
       "      <th>name</th>\n",
       "      <th>desc</th>\n",
       "      <th>price</th>\n",
       "      <th>promo_price</th>\n",
       "      <th>in_stock</th>\n",
       "      <th>type</th>\n",
       "    </tr>\n",
       "  </thead>\n",
       "  <tbody>\n",
       "    <tr>\n",
       "      <th>18673</th>\n",
       "      <td>TUC0315-A</td>\n",
       "      <td>Open - Tucano 105 Pro Cosmo iPad Case \"Blue</td>\n",
       "      <td>Leather reconditioned trunnion up to 360 degre...</td>\n",
       "      <td>39.90</td>\n",
       "      <td>259.8440</td>\n",
       "      <td>0</td>\n",
       "      <td>12635403</td>\n",
       "    </tr>\n",
       "    <tr>\n",
       "      <th>14457</th>\n",
       "      <td>ELG0046</td>\n",
       "      <td>Eve Elgato Thermo thermostatic radiator valve</td>\n",
       "      <td>thermostatic valve controls the temperature of...</td>\n",
       "      <td>69.99</td>\n",
       "      <td>489.9050</td>\n",
       "      <td>0</td>\n",
       "      <td>11905404</td>\n",
       "    </tr>\n",
       "    <tr>\n",
       "      <th>15086</th>\n",
       "      <td>SAM0061-A</td>\n",
       "      <td>Open - Samsung Recorder External Bluray White</td>\n",
       "      <td>Bluray recorder slim format supports USB 2.0 a...</td>\n",
       "      <td>90.00</td>\n",
       "      <td>680.5330</td>\n",
       "      <td>0</td>\n",
       "      <td>1298</td>\n",
       "    </tr>\n",
       "    <tr>\n",
       "      <th>14798</th>\n",
       "      <td>QNA0227</td>\n",
       "      <td>QNAP TS-451A NAS Server | 4GB RAM</td>\n",
       "      <td>NAS server with 4GB of RAM memory 2 Gigabit po...</td>\n",
       "      <td>479.99</td>\n",
       "      <td>462.9900</td>\n",
       "      <td>1</td>\n",
       "      <td>12175397</td>\n",
       "    </tr>\n",
       "    <tr>\n",
       "      <th>12290</th>\n",
       "      <td>APP1598</td>\n",
       "      <td>Apple Watch Sport Silver Strap 42mm Royal Blue</td>\n",
       "      <td>Apple Watch Sport Aluminum Silver 42mm with sp...</td>\n",
       "      <td>369.00</td>\n",
       "      <td>298.9995</td>\n",
       "      <td>0</td>\n",
       "      <td>24895185</td>\n",
       "    </tr>\n",
       "    <tr>\n",
       "      <th>...</th>\n",
       "      <td>...</td>\n",
       "      <td>...</td>\n",
       "      <td>...</td>\n",
       "      <td>...</td>\n",
       "      <td>...</td>\n",
       "      <td>...</td>\n",
       "      <td>...</td>\n",
       "    </tr>\n",
       "    <tr>\n",
       "      <th>18097</th>\n",
       "      <td>PAC2462</td>\n",
       "      <td>DS218play Synology NAS Server | 4TB (2x2TB) Se...</td>\n",
       "      <td>2-bay NAS server can accommodate 4K Ultra HD f...</td>\n",
       "      <td>460.97</td>\n",
       "      <td>394.1793</td>\n",
       "      <td>0</td>\n",
       "      <td>12175397</td>\n",
       "    </tr>\n",
       "    <tr>\n",
       "      <th>15967</th>\n",
       "      <td>PAC1958</td>\n",
       "      <td>Synology DS1817 + | 2GB RAM | 48TB (8x6TB) Sea...</td>\n",
       "      <td>NAS with 2GB of RAM and 48TB for Mac and PC</td>\n",
       "      <td>3218.81</td>\n",
       "      <td>2462.7457</td>\n",
       "      <td>0</td>\n",
       "      <td>12175397</td>\n",
       "    </tr>\n",
       "    <tr>\n",
       "      <th>17436</th>\n",
       "      <td>AP20303</td>\n",
       "      <td>Like new - Apple iPhone 6 Plus 128GB Gold</td>\n",
       "      <td>Apple iPhone 6 Plus 128GB Reconditioned Free C...</td>\n",
       "      <td>999.00</td>\n",
       "      <td>589.0014</td>\n",
       "      <td>0</td>\n",
       "      <td>21571716</td>\n",
       "    </tr>\n",
       "    <tr>\n",
       "      <th>18178</th>\n",
       "      <td>OTT0171</td>\n",
       "      <td>Otterbox iPhone Case Symmetry X Black</td>\n",
       "      <td>Case for iPhone X fine elegant one-piece design</td>\n",
       "      <td>34.99</td>\n",
       "      <td>22.9900</td>\n",
       "      <td>1</td>\n",
       "      <td>11865403</td>\n",
       "    </tr>\n",
       "    <tr>\n",
       "      <th>15552</th>\n",
       "      <td>SXA0030</td>\n",
       "      <td>SecurityXtra One adjustable desk Security Supp...</td>\n",
       "      <td>Adjustable desk stand with safety lock for iPa...</td>\n",
       "      <td>199.99</td>\n",
       "      <td>164.9896</td>\n",
       "      <td>0</td>\n",
       "      <td>1216</td>\n",
       "    </tr>\n",
       "  </tbody>\n",
       "</table>\n",
       "<p>100 rows × 7 columns</p>\n",
       "</div>"
      ],
      "text/plain": [
       "             sku                                               name  \\\n",
       "18673  TUC0315-A        Open - Tucano 105 Pro Cosmo iPad Case \"Blue   \n",
       "14457    ELG0046      Eve Elgato Thermo thermostatic radiator valve   \n",
       "15086  SAM0061-A      Open - Samsung Recorder External Bluray White   \n",
       "14798    QNA0227                  QNAP TS-451A NAS Server | 4GB RAM   \n",
       "12290    APP1598     Apple Watch Sport Silver Strap 42mm Royal Blue   \n",
       "...          ...                                                ...   \n",
       "18097    PAC2462  DS218play Synology NAS Server | 4TB (2x2TB) Se...   \n",
       "15967    PAC1958  Synology DS1817 + | 2GB RAM | 48TB (8x6TB) Sea...   \n",
       "17436    AP20303          Like new - Apple iPhone 6 Plus 128GB Gold   \n",
       "18178    OTT0171              Otterbox iPhone Case Symmetry X Black   \n",
       "15552    SXA0030  SecurityXtra One adjustable desk Security Supp...   \n",
       "\n",
       "                                                    desc    price  \\\n",
       "18673  Leather reconditioned trunnion up to 360 degre...    39.90   \n",
       "14457  thermostatic valve controls the temperature of...    69.99   \n",
       "15086  Bluray recorder slim format supports USB 2.0 a...    90.00   \n",
       "14798  NAS server with 4GB of RAM memory 2 Gigabit po...   479.99   \n",
       "12290  Apple Watch Sport Aluminum Silver 42mm with sp...   369.00   \n",
       "...                                                  ...      ...   \n",
       "18097  2-bay NAS server can accommodate 4K Ultra HD f...   460.97   \n",
       "15967        NAS with 2GB of RAM and 48TB for Mac and PC  3218.81   \n",
       "17436  Apple iPhone 6 Plus 128GB Reconditioned Free C...   999.00   \n",
       "18178    Case for iPhone X fine elegant one-piece design    34.99   \n",
       "15552  Adjustable desk stand with safety lock for iPa...   199.99   \n",
       "\n",
       "       promo_price  in_stock      type  \n",
       "18673     259.8440         0  12635403  \n",
       "14457     489.9050         0  11905404  \n",
       "15086     680.5330         0      1298  \n",
       "14798     462.9900         1  12175397  \n",
       "12290     298.9995         0  24895185  \n",
       "...            ...       ...       ...  \n",
       "18097     394.1793         0  12175397  \n",
       "15967    2462.7457         0  12175397  \n",
       "17436     589.0014         0  21571716  \n",
       "18178      22.9900         1  11865403  \n",
       "15552     164.9896         0      1216  \n",
       "\n",
       "[100 rows x 7 columns]"
      ]
     },
     "execution_count": 42,
     "metadata": {},
     "output_type": "execute_result"
    }
   ],
   "source": [
    "df_prod_copy_modified = df_prod_copy.copy()\n",
    "df_prod_copy_modified.loc[indices_with_double_dots_promoprice, 'promo_price'] = df_prod_copy_modified.loc[indices_with_double_dots_promoprice, 'promo_price'].apply(lambda x: ''.join(x.rsplit('.', 1)))\n",
    "df_prod_copy_modified.iloc[66]\n",
    "df_prod_copy_modified['promo_price'] = pd.to_numeric(df_prod_copy_modified['promo_price'])\n",
    "df_prod_copy_modified.loc[indices_with_double_dots_promoprice, 'promo_price'] *= 100\n",
    "df_prod_copy_modified.sample(100)"
   ]
  },
  {
   "cell_type": "code",
   "execution_count": 43,
   "metadata": {
    "tags": []
   },
   "outputs": [],
   "source": [
    "df_prod_copy_modified['price_difference'] = df_prod_copy_modified['price']- df_prod_copy_modified['promo_price']"
   ]
  },
  {
   "cell_type": "code",
   "execution_count": 44,
   "metadata": {
    "tags": []
   },
   "outputs": [],
   "source": [
    "rows_to_replace = df_prod_copy_modified['price_difference'] < 0"
   ]
  },
  {
   "cell_type": "code",
   "execution_count": 45,
   "metadata": {
    "tags": []
   },
   "outputs": [],
   "source": [
    "df_prod_copy_modified.loc[rows_to_replace, 'promo_price']/= 10"
   ]
  },
  {
   "cell_type": "code",
   "execution_count": 46,
   "metadata": {
    "tags": []
   },
   "outputs": [],
   "source": [
    "df_prod_copy_modified.drop('price_difference', axis=1, inplace=True)"
   ]
  },
  {
   "cell_type": "code",
   "execution_count": 47,
   "metadata": {
    "tags": []
   },
   "outputs": [
    {
     "data": {
      "text/html": [
       "<div>\n",
       "<style scoped>\n",
       "    .dataframe tbody tr th:only-of-type {\n",
       "        vertical-align: middle;\n",
       "    }\n",
       "\n",
       "    .dataframe tbody tr th {\n",
       "        vertical-align: top;\n",
       "    }\n",
       "\n",
       "    .dataframe thead th {\n",
       "        text-align: right;\n",
       "    }\n",
       "</style>\n",
       "<table border=\"1\" class=\"dataframe\">\n",
       "  <thead>\n",
       "    <tr style=\"text-align: right;\">\n",
       "      <th></th>\n",
       "      <th>sku</th>\n",
       "      <th>name</th>\n",
       "      <th>desc</th>\n",
       "      <th>price</th>\n",
       "      <th>promo_price</th>\n",
       "      <th>in_stock</th>\n",
       "      <th>type</th>\n",
       "    </tr>\n",
       "  </thead>\n",
       "  <tbody>\n",
       "    <tr>\n",
       "      <th>1962</th>\n",
       "      <td>PAC0762</td>\n",
       "      <td>Samsung SSD 850 expansion kit EVO 500GB iMac 2...</td>\n",
       "      <td>SSD upgrade kit 500GB iMac 27-inch Mid 2010 wi...</td>\n",
       "      <td>240.98</td>\n",
       "      <td>173.5842</td>\n",
       "      <td>1</td>\n",
       "      <td>1433</td>\n",
       "    </tr>\n",
       "    <tr>\n",
       "      <th>466</th>\n",
       "      <td>OWC0046</td>\n",
       "      <td>Mac OWC Memory 8GB 1600MHZ DDR3 SO-DIMM</td>\n",
       "      <td>8GB RAM MacBook Pro iMac Mac mini (2012) and i...</td>\n",
       "      <td>92.99</td>\n",
       "      <td>92.9897</td>\n",
       "      <td>1</td>\n",
       "      <td>1364</td>\n",
       "    </tr>\n",
       "    <tr>\n",
       "      <th>18665</th>\n",
       "      <td>XTO0012</td>\n",
       "      <td>Xtorm XB103 Qi Wireless Power Bank Fast charge</td>\n",
       "      <td>Xtorm battery Qi wireless charging iPhone comp...</td>\n",
       "      <td>79.00</td>\n",
       "      <td>64.9903</td>\n",
       "      <td>1</td>\n",
       "      <td>1515</td>\n",
       "    </tr>\n",
       "    <tr>\n",
       "      <th>13285</th>\n",
       "      <td>GRT0433</td>\n",
       "      <td>Griffin Survivor Case Clear Transparent iPhone...</td>\n",
       "      <td>Resistant polycarbonate transparent cover for ...</td>\n",
       "      <td>24.99</td>\n",
       "      <td>16.9896</td>\n",
       "      <td>0</td>\n",
       "      <td>11865403</td>\n",
       "    </tr>\n",
       "    <tr>\n",
       "      <th>19153</th>\n",
       "      <td>SAT0014-A</td>\n",
       "      <td>Open - Satechi Aluminum Card Reader USB-C to U...</td>\n",
       "      <td>Reconditioned reader card slots for SD and Mic...</td>\n",
       "      <td>34.99</td>\n",
       "      <td>10.6485</td>\n",
       "      <td>0</td>\n",
       "      <td>12585395</td>\n",
       "    </tr>\n",
       "    <tr>\n",
       "      <th>...</th>\n",
       "      <td>...</td>\n",
       "      <td>...</td>\n",
       "      <td>...</td>\n",
       "      <td>...</td>\n",
       "      <td>...</td>\n",
       "      <td>...</td>\n",
       "      <td>...</td>\n",
       "    </tr>\n",
       "    <tr>\n",
       "      <th>11564</th>\n",
       "      <td>PAC1275</td>\n",
       "      <td>Pack QNAP TS-251 | WD 12TB Network</td>\n",
       "      <td>Pack QNAP TS-251 + 12TB (2x6TB) Network WD Har...</td>\n",
       "      <td>850.89</td>\n",
       "      <td>716.9903</td>\n",
       "      <td>0</td>\n",
       "      <td>12175397</td>\n",
       "    </tr>\n",
       "    <tr>\n",
       "      <th>16235</th>\n",
       "      <td>PAC2144</td>\n",
       "      <td>Apple iMac 27 \"Core i7 Retina 5K 42Ghz | 16GB ...</td>\n",
       "      <td>IMac desktop computer 27 inch Retina 5K RAM 16...</td>\n",
       "      <td>3079.00</td>\n",
       "      <td>2847.0045</td>\n",
       "      <td>0</td>\n",
       "      <td>5,74E+15</td>\n",
       "    </tr>\n",
       "    <tr>\n",
       "      <th>14611</th>\n",
       "      <td>JAW0048</td>\n",
       "      <td>Jawbone UP2 Black Rope Activity Monitor</td>\n",
       "      <td>Bluetooth activity monitor that records moveme...</td>\n",
       "      <td>119.99</td>\n",
       "      <td>29.9899</td>\n",
       "      <td>0</td>\n",
       "      <td>11905404</td>\n",
       "    </tr>\n",
       "    <tr>\n",
       "      <th>15871</th>\n",
       "      <td>LOG0231</td>\n",
       "      <td>Logitech Ultimate Ears UE Wonderboom Bluetooth...</td>\n",
       "      <td>Compact wireless speaker with waterproof Bluet...</td>\n",
       "      <td>99.99</td>\n",
       "      <td>86.9905</td>\n",
       "      <td>0</td>\n",
       "      <td>5398</td>\n",
       "    </tr>\n",
       "    <tr>\n",
       "      <th>18745</th>\n",
       "      <td>LGE0063-A</td>\n",
       "      <td>Open - Lg 34UM59-P MONITOR HDMI sRGB 99% QHD</td>\n",
       "      <td>Monitor 34-inch super-refurbished image qualit...</td>\n",
       "      <td>399.00</td>\n",
       "      <td>345.9899</td>\n",
       "      <td>0</td>\n",
       "      <td>1296</td>\n",
       "    </tr>\n",
       "  </tbody>\n",
       "</table>\n",
       "<p>100 rows × 7 columns</p>\n",
       "</div>"
      ],
      "text/plain": [
       "             sku                                               name  \\\n",
       "1962     PAC0762  Samsung SSD 850 expansion kit EVO 500GB iMac 2...   \n",
       "466      OWC0046            Mac OWC Memory 8GB 1600MHZ DDR3 SO-DIMM   \n",
       "18665    XTO0012     Xtorm XB103 Qi Wireless Power Bank Fast charge   \n",
       "13285    GRT0433  Griffin Survivor Case Clear Transparent iPhone...   \n",
       "19153  SAT0014-A  Open - Satechi Aluminum Card Reader USB-C to U...   \n",
       "...          ...                                                ...   \n",
       "11564    PAC1275                 Pack QNAP TS-251 | WD 12TB Network   \n",
       "16235    PAC2144  Apple iMac 27 \"Core i7 Retina 5K 42Ghz | 16GB ...   \n",
       "14611    JAW0048            Jawbone UP2 Black Rope Activity Monitor   \n",
       "15871    LOG0231  Logitech Ultimate Ears UE Wonderboom Bluetooth...   \n",
       "18745  LGE0063-A       Open - Lg 34UM59-P MONITOR HDMI sRGB 99% QHD   \n",
       "\n",
       "                                                    desc    price  \\\n",
       "1962   SSD upgrade kit 500GB iMac 27-inch Mid 2010 wi...   240.98   \n",
       "466    8GB RAM MacBook Pro iMac Mac mini (2012) and i...    92.99   \n",
       "18665  Xtorm battery Qi wireless charging iPhone comp...    79.00   \n",
       "13285  Resistant polycarbonate transparent cover for ...    24.99   \n",
       "19153  Reconditioned reader card slots for SD and Mic...    34.99   \n",
       "...                                                  ...      ...   \n",
       "11564  Pack QNAP TS-251 + 12TB (2x6TB) Network WD Har...   850.89   \n",
       "16235  IMac desktop computer 27 inch Retina 5K RAM 16...  3079.00   \n",
       "14611  Bluetooth activity monitor that records moveme...   119.99   \n",
       "15871  Compact wireless speaker with waterproof Bluet...    99.99   \n",
       "18745  Monitor 34-inch super-refurbished image qualit...   399.00   \n",
       "\n",
       "       promo_price  in_stock      type  \n",
       "1962      173.5842         1      1433  \n",
       "466        92.9897         1      1364  \n",
       "18665      64.9903         1      1515  \n",
       "13285      16.9896         0  11865403  \n",
       "19153      10.6485         0  12585395  \n",
       "...            ...       ...       ...  \n",
       "11564     716.9903         0  12175397  \n",
       "16235    2847.0045         0  5,74E+15  \n",
       "14611      29.9899         0  11905404  \n",
       "15871      86.9905         0      5398  \n",
       "18745     345.9899         0      1296  \n",
       "\n",
       "[100 rows x 7 columns]"
      ]
     },
     "execution_count": 47,
     "metadata": {},
     "output_type": "execute_result"
    }
   ],
   "source": [
    "df_prod_copy_modified.sample(100)"
   ]
  },
  {
   "cell_type": "code",
   "execution_count": 48,
   "metadata": {
    "tags": []
   },
   "outputs": [
    {
     "data": {
      "image/png": "[encoded data removed]",
      "text/plain": [
       "<Figure size 1000x600 with 1 Axes>"
      ]
     },
     "metadata": {},
     "output_type": "display_data"
    }
   ],
   "source": [
    "plt.figure(figsize=(10, 6))\n",
    "plt.hist(df_prod_copy_modified['promo_price'], bins=20, color='blue', edgecolor='black')\n",
    "plt.title('Histogram of promo_price')\n",
    "plt.xlabel('promo_price')\n",
    "plt.ylabel('Frequency')\n",
    "plt.grid(axis='y', alpha=0.75)\n",
    "\n",
    "plt.show()"
   ]
  },
  {
   "cell_type": "code",
   "execution_count": 49,
   "metadata": {
    "tags": []
   },
   "outputs": [],
   "source": [
    "df_prod_copy_modified_merged = pd.merge(df_prod_copy_modified, df_orderlines_copy[['sku', 'unit_price']], on='sku', how='left')"
   ]
  },
  {
   "cell_type": "code",
   "execution_count": 50,
   "metadata": {
    "tags": []
   },
   "outputs": [],
   "source": [
    "df_prod_copy_modified_merged['price_unit_difference'] = df_prod_copy_modified_merged['promo_price'] - df_prod_copy_modified_merged['unit_price']"
   ]
  },
  {
   "cell_type": "code",
   "execution_count": 51,
   "metadata": {
    "tags": []
   },
   "outputs": [
    {
     "data": {
      "image/png": "[encoded data removed]",
      "text/plain": [
       "<Figure size 1000x600 with 1 Axes>"
      ]
     },
     "metadata": {},
     "output_type": "display_data"
    }
   ],
   "source": [
    "plt.figure(figsize=(10, 6))\n",
    "plt.hist(df_prod_copy_modified_merged['price_unit_difference'], bins=100, color='green', edgecolor='black')\n",
    "plt.title('Histogram of price_unit_difference')\n",
    "plt.xlabel('price_unit_difference')\n",
    "plt.ylabel('Frequency')\n",
    "plt.grid(axis='y', alpha=0.75)\n",
    "\n",
    "plt.show()"
   ]
  },
  {
   "cell_type": "code",
   "execution_count": 52,
   "metadata": {
    "tags": []
   },
   "outputs": [
    {
     "data": {
      "text/html": [
       "<div>\n",
       "<style scoped>\n",
       "    .dataframe tbody tr th:only-of-type {\n",
       "        vertical-align: middle;\n",
       "    }\n",
       "\n",
       "    .dataframe tbody tr th {\n",
       "        vertical-align: top;\n",
       "    }\n",
       "\n",
       "    .dataframe thead th {\n",
       "        text-align: right;\n",
       "    }\n",
       "</style>\n",
       "<table border=\"1\" class=\"dataframe\">\n",
       "  <thead>\n",
       "    <tr style=\"text-align: right;\">\n",
       "      <th></th>\n",
       "      <th>sku</th>\n",
       "      <th>name</th>\n",
       "      <th>desc</th>\n",
       "      <th>price</th>\n",
       "      <th>promo_price</th>\n",
       "      <th>in_stock</th>\n",
       "      <th>type</th>\n",
       "      <th>unit_price</th>\n",
       "      <th>price_unit_difference</th>\n",
       "    </tr>\n",
       "  </thead>\n",
       "  <tbody>\n",
       "    <tr>\n",
       "      <th>160304</th>\n",
       "      <td>REP0307</td>\n",
       "      <td>Load Connector Repair iPhone 6 Plus</td>\n",
       "      <td>Repair service including parts and labor for i...</td>\n",
       "      <td>599.906</td>\n",
       "      <td>599.9060</td>\n",
       "      <td>0</td>\n",
       "      <td>1,44E+11</td>\n",
       "      <td>59.99</td>\n",
       "      <td>539.9160</td>\n",
       "    </tr>\n",
       "    <tr>\n",
       "      <th>57020</th>\n",
       "      <td>NTE0093</td>\n",
       "      <td>NewerTech Cable HDMI to HDMI 1.4A 090m</td>\n",
       "      <td>HDMI to HDMI Cable of 09 meters.</td>\n",
       "      <td>11.990</td>\n",
       "      <td>5.9895</td>\n",
       "      <td>0</td>\n",
       "      <td>1325</td>\n",
       "      <td>5.69</td>\n",
       "      <td>0.2995</td>\n",
       "    </tr>\n",
       "    <tr>\n",
       "      <th>207257</th>\n",
       "      <td>IFX0181</td>\n",
       "      <td>Battery iFixit MacBook Pro 13 \"(Mid 2009 to Mi...</td>\n",
       "      <td>Internal Battery for MacBook Pro 13-inch (Mid ...</td>\n",
       "      <td>89.950</td>\n",
       "      <td>79.9900</td>\n",
       "      <td>1</td>\n",
       "      <td>10142</td>\n",
       "      <td>62.04</td>\n",
       "      <td>17.9500</td>\n",
       "    </tr>\n",
       "    <tr>\n",
       "      <th>6893</th>\n",
       "      <td>WDT0183</td>\n",
       "      <td>Red 4TB WD 35 \"Mac PC hard drive and NAS</td>\n",
       "      <td>Western Digital hard drive designed for NAS 4T...</td>\n",
       "      <td>169.000</td>\n",
       "      <td>125.9937</td>\n",
       "      <td>1</td>\n",
       "      <td>12655397</td>\n",
       "      <td>129.99</td>\n",
       "      <td>-3.9963</td>\n",
       "    </tr>\n",
       "    <tr>\n",
       "      <th>149097</th>\n",
       "      <td>SEA0098</td>\n",
       "      <td>IronWolf Seagate NAS HDD 10TB SATA 3</td>\n",
       "      <td>NAS hard drive designed for systems with inter...</td>\n",
       "      <td>399.990</td>\n",
       "      <td>274.9943</td>\n",
       "      <td>1</td>\n",
       "      <td>12655397</td>\n",
       "      <td>328.55</td>\n",
       "      <td>-53.5557</td>\n",
       "    </tr>\n",
       "    <tr>\n",
       "      <th>42443</th>\n",
       "      <td>APP0927</td>\n",
       "      <td>EarPods Apple Headphones with Remote and Mic (...</td>\n",
       "      <td>EarPods headphones Apple iPhone iPad and iPod ...</td>\n",
       "      <td>35.000</td>\n",
       "      <td>13.9900</td>\n",
       "      <td>1</td>\n",
       "      <td>5384</td>\n",
       "      <td>18.99</td>\n",
       "      <td>-5.0000</td>\n",
       "    </tr>\n",
       "    <tr>\n",
       "      <th>62063</th>\n",
       "      <td>DLL0016</td>\n",
       "      <td>Dell UP2715K IPS Monitor 27 \"5K</td>\n",
       "      <td>Monitor 27-inch IPS 5K.</td>\n",
       "      <td>1040.600</td>\n",
       "      <td>899.9895</td>\n",
       "      <td>0</td>\n",
       "      <td>1296</td>\n",
       "      <td>899.99</td>\n",
       "      <td>-0.0005</td>\n",
       "    </tr>\n",
       "    <tr>\n",
       "      <th>11545</th>\n",
       "      <td>OWC0043</td>\n",
       "      <td>Mac OWC Memory 8GB 1333MHZ DDR3 SO-DIMM</td>\n",
       "      <td>8GB RAM Mac mini iMac (2010/11) and MacBook Pr...</td>\n",
       "      <td>99.990</td>\n",
       "      <td>99.9896</td>\n",
       "      <td>0</td>\n",
       "      <td>1364</td>\n",
       "      <td>76.99</td>\n",
       "      <td>22.9996</td>\n",
       "    </tr>\n",
       "    <tr>\n",
       "      <th>88493</th>\n",
       "      <td>KIN0156</td>\n",
       "      <td>Mac memory Kingston 4GB SO-DIMM DDR3åÊ1333MhzåÊ</td>\n",
       "      <td>4GB RAM iMac (2011) Mac mini and MacBook Pro (...</td>\n",
       "      <td>35.530</td>\n",
       "      <td>42.9913</td>\n",
       "      <td>0</td>\n",
       "      <td>1364</td>\n",
       "      <td>44.99</td>\n",
       "      <td>-1.9987</td>\n",
       "    </tr>\n",
       "    <tr>\n",
       "      <th>185661</th>\n",
       "      <td>APP2446</td>\n",
       "      <td>Apple iPhone 6 32GB Space Gray</td>\n",
       "      <td>New iPhone 6 32GB Space Gray</td>\n",
       "      <td>449.330</td>\n",
       "      <td>382.0006</td>\n",
       "      <td>0</td>\n",
       "      <td>21561716</td>\n",
       "      <td>389.00</td>\n",
       "      <td>-6.9994</td>\n",
       "    </tr>\n",
       "  </tbody>\n",
       "</table>\n",
       "</div>"
      ],
      "text/plain": [
       "            sku                                               name  \\\n",
       "160304  REP0307                Load Connector Repair iPhone 6 Plus   \n",
       "57020   NTE0093             NewerTech Cable HDMI to HDMI 1.4A 090m   \n",
       "207257  IFX0181  Battery iFixit MacBook Pro 13 \"(Mid 2009 to Mi...   \n",
       "6893    WDT0183           Red 4TB WD 35 \"Mac PC hard drive and NAS   \n",
       "149097  SEA0098               IronWolf Seagate NAS HDD 10TB SATA 3   \n",
       "42443   APP0927  EarPods Apple Headphones with Remote and Mic (...   \n",
       "62063   DLL0016                    Dell UP2715K IPS Monitor 27 \"5K   \n",
       "11545   OWC0043            Mac OWC Memory 8GB 1333MHZ DDR3 SO-DIMM   \n",
       "88493   KIN0156    Mac memory Kingston 4GB SO-DIMM DDR3åÊ1333MhzåÊ   \n",
       "185661  APP2446                     Apple iPhone 6 32GB Space Gray   \n",
       "\n",
       "                                                     desc     price  \\\n",
       "160304  Repair service including parts and labor for i...   599.906   \n",
       "57020                    HDMI to HDMI Cable of 09 meters.    11.990   \n",
       "207257  Internal Battery for MacBook Pro 13-inch (Mid ...    89.950   \n",
       "6893    Western Digital hard drive designed for NAS 4T...   169.000   \n",
       "149097  NAS hard drive designed for systems with inter...   399.990   \n",
       "42443   EarPods headphones Apple iPhone iPad and iPod ...    35.000   \n",
       "62063                             Monitor 27-inch IPS 5K.  1040.600   \n",
       "11545   8GB RAM Mac mini iMac (2010/11) and MacBook Pr...    99.990   \n",
       "88493   4GB RAM iMac (2011) Mac mini and MacBook Pro (...    35.530   \n",
       "185661                       New iPhone 6 32GB Space Gray   449.330   \n",
       "\n",
       "        promo_price  in_stock      type  unit_price  price_unit_difference  \n",
       "160304     599.9060         0  1,44E+11       59.99               539.9160  \n",
       "57020        5.9895         0      1325        5.69                 0.2995  \n",
       "207257      79.9900         1     10142       62.04                17.9500  \n",
       "6893       125.9937         1  12655397      129.99                -3.9963  \n",
       "149097     274.9943         1  12655397      328.55               -53.5557  \n",
       "42443       13.9900         1      5384       18.99                -5.0000  \n",
       "62063      899.9895         0      1296      899.99                -0.0005  \n",
       "11545       99.9896         0      1364       76.99                22.9996  \n",
       "88493       42.9913         0      1364       44.99                -1.9987  \n",
       "185661     382.0006         0  21561716      389.00                -6.9994  "
      ]
     },
     "execution_count": 52,
     "metadata": {},
     "output_type": "execute_result"
    }
   ],
   "source": [
    "df_prod_copy_modified_merged.sample(10)"
   ]
  },
  {
   "cell_type": "code",
   "execution_count": 53,
   "metadata": {
    "tags": []
   },
   "outputs": [],
   "source": [
    "rows_to_replace = (df_prod_copy_modified_merged['price_unit_difference'] >= -0.5) & (df_prod_copy_modified_merged['price_unit_difference'] < 0)"
   ]
  },
  {
   "cell_type": "code",
   "execution_count": 54,
   "metadata": {
    "tags": []
   },
   "outputs": [],
   "source": [
    "df_prod_copy_modified_merged.loc[rows_to_replace, 'promo_price'] = df_prod_copy_modified_merged.loc[rows_to_replace, 'unit_price']"
   ]
  },
  {
   "cell_type": "code",
   "execution_count": 55,
   "metadata": {
    "tags": []
   },
   "outputs": [
    {
     "data": {
      "text/html": [
       "<div>\n",
       "<style scoped>\n",
       "    .dataframe tbody tr th:only-of-type {\n",
       "        vertical-align: middle;\n",
       "    }\n",
       "\n",
       "    .dataframe tbody tr th {\n",
       "        vertical-align: top;\n",
       "    }\n",
       "\n",
       "    .dataframe thead th {\n",
       "        text-align: right;\n",
       "    }\n",
       "</style>\n",
       "<table border=\"1\" class=\"dataframe\">\n",
       "  <thead>\n",
       "    <tr style=\"text-align: right;\">\n",
       "      <th></th>\n",
       "      <th>sku</th>\n",
       "      <th>name</th>\n",
       "      <th>desc</th>\n",
       "      <th>price</th>\n",
       "      <th>promo_price</th>\n",
       "      <th>in_stock</th>\n",
       "      <th>type</th>\n",
       "      <th>unit_price</th>\n",
       "      <th>price_unit_difference</th>\n",
       "    </tr>\n",
       "  </thead>\n",
       "  <tbody>\n",
       "    <tr>\n",
       "      <th>175975</th>\n",
       "      <td>ELA0037</td>\n",
       "      <td>elago P4 iPad Stand Support Pro / iPad Air Plata</td>\n",
       "      <td>Aluminum support slot Lightning cable for iPad...</td>\n",
       "      <td>60.000</td>\n",
       "      <td>49.9899</td>\n",
       "      <td>0</td>\n",
       "      <td>1216</td>\n",
       "      <td>47.49</td>\n",
       "      <td>2.4999</td>\n",
       "    </tr>\n",
       "    <tr>\n",
       "      <th>80809</th>\n",
       "      <td>PHI0062</td>\n",
       "      <td>Philips Hue Dimmer light dimmer switch White</td>\n",
       "      <td>Remote control to control lamps and bulbs Hue</td>\n",
       "      <td>24.950</td>\n",
       "      <td>24.9901</td>\n",
       "      <td>1</td>\n",
       "      <td>11905404</td>\n",
       "      <td>22.41</td>\n",
       "      <td>2.5801</td>\n",
       "    </tr>\n",
       "    <tr>\n",
       "      <th>166992</th>\n",
       "      <td>APP1989</td>\n",
       "      <td>Apple iPhone Leather Case Cover Brown Candy</td>\n",
       "      <td>And microfiber leather case for iPhone Premium SE</td>\n",
       "      <td>45.000</td>\n",
       "      <td>42.0003</td>\n",
       "      <td>0</td>\n",
       "      <td>11865403</td>\n",
       "      <td>42.00</td>\n",
       "      <td>0.0003</td>\n",
       "    </tr>\n",
       "    <tr>\n",
       "      <th>161668</th>\n",
       "      <td>WAC0231</td>\n",
       "      <td>Wacom Intuos Grip Pen Digital pen 4 / C21</td>\n",
       "      <td>18g pointer 2048 Cintq pressure levels for 21 ...</td>\n",
       "      <td>79.900</td>\n",
       "      <td>71.9902</td>\n",
       "      <td>1</td>\n",
       "      <td>1229</td>\n",
       "      <td>71.99</td>\n",
       "      <td>0.0002</td>\n",
       "    </tr>\n",
       "    <tr>\n",
       "      <th>163434</th>\n",
       "      <td>APP1970</td>\n",
       "      <td>Apple iPhone 32GB Space Gray</td>\n",
       "      <td>New iPhone SE with 4-inch screen 32 free GB.</td>\n",
       "      <td>419.000</td>\n",
       "      <td>358.9997</td>\n",
       "      <td>0</td>\n",
       "      <td>51601716</td>\n",
       "      <td>360.33</td>\n",
       "      <td>-1.3303</td>\n",
       "    </tr>\n",
       "    <tr>\n",
       "      <th>90353</th>\n",
       "      <td>APP1483</td>\n",
       "      <td>Apple iPhone 64GB Gold</td>\n",
       "      <td>New iPhone SE with 4-inch screen 64 free GB.</td>\n",
       "      <td>549.000</td>\n",
       "      <td>55.0331</td>\n",
       "      <td>0</td>\n",
       "      <td>NaN</td>\n",
       "      <td>538.02</td>\n",
       "      <td>-482.9869</td>\n",
       "    </tr>\n",
       "    <tr>\n",
       "      <th>18299</th>\n",
       "      <td>SEV0028</td>\n",
       "      <td>Budget Request repair Apple MacBook Pro</td>\n",
       "      <td>diagnosis to repair MacBook Pro.</td>\n",
       "      <td>199.892</td>\n",
       "      <td>199.8920</td>\n",
       "      <td>0</td>\n",
       "      <td>1,46E+11</td>\n",
       "      <td>19.99</td>\n",
       "      <td>179.9020</td>\n",
       "    </tr>\n",
       "    <tr>\n",
       "      <th>118545</th>\n",
       "      <td>BEL0265</td>\n",
       "      <td>InvisiGlass Belkin Screen Protector Apple Watc...</td>\n",
       "      <td>Tempered glass protector with ultrafine thickn...</td>\n",
       "      <td>19.990</td>\n",
       "      <td>14.9900</td>\n",
       "      <td>1</td>\n",
       "      <td>2425</td>\n",
       "      <td>14.99</td>\n",
       "      <td>-0.0005</td>\n",
       "    </tr>\n",
       "    <tr>\n",
       "      <th>7123</th>\n",
       "      <td>WDT0249</td>\n",
       "      <td>WD Red 6TB 35 \"Mac PC hard drive and NAS</td>\n",
       "      <td>Western Digital hard drive designed for NAS 6T...</td>\n",
       "      <td>255.000</td>\n",
       "      <td>189.9942</td>\n",
       "      <td>1</td>\n",
       "      <td>12655397</td>\n",
       "      <td>230.99</td>\n",
       "      <td>-40.9958</td>\n",
       "    </tr>\n",
       "    <tr>\n",
       "      <th>212457</th>\n",
       "      <td>OTT0194</td>\n",
       "      <td>OtterBox USB Cable Twisted Lightning 1 meter</td>\n",
       "      <td>Cable-duty Lightning to USB 1 meter</td>\n",
       "      <td>24.990</td>\n",
       "      <td>19.9904</td>\n",
       "      <td>1</td>\n",
       "      <td>1230</td>\n",
       "      <td>19.99</td>\n",
       "      <td>0.0004</td>\n",
       "    </tr>\n",
       "  </tbody>\n",
       "</table>\n",
       "</div>"
      ],
      "text/plain": [
       "            sku                                               name  \\\n",
       "175975  ELA0037   elago P4 iPad Stand Support Pro / iPad Air Plata   \n",
       "80809   PHI0062       Philips Hue Dimmer light dimmer switch White   \n",
       "166992  APP1989        Apple iPhone Leather Case Cover Brown Candy   \n",
       "161668  WAC0231          Wacom Intuos Grip Pen Digital pen 4 / C21   \n",
       "163434  APP1970                       Apple iPhone 32GB Space Gray   \n",
       "90353   APP1483                             Apple iPhone 64GB Gold   \n",
       "18299   SEV0028            Budget Request repair Apple MacBook Pro   \n",
       "118545  BEL0265  InvisiGlass Belkin Screen Protector Apple Watc...   \n",
       "7123    WDT0249           WD Red 6TB 35 \"Mac PC hard drive and NAS   \n",
       "212457  OTT0194       OtterBox USB Cable Twisted Lightning 1 meter   \n",
       "\n",
       "                                                     desc    price  \\\n",
       "175975  Aluminum support slot Lightning cable for iPad...   60.000   \n",
       "80809       Remote control to control lamps and bulbs Hue   24.950   \n",
       "166992  And microfiber leather case for iPhone Premium SE   45.000   \n",
       "161668  18g pointer 2048 Cintq pressure levels for 21 ...   79.900   \n",
       "163434       New iPhone SE with 4-inch screen 32 free GB.  419.000   \n",
       "90353        New iPhone SE with 4-inch screen 64 free GB.  549.000   \n",
       "18299                    diagnosis to repair MacBook Pro.  199.892   \n",
       "118545  Tempered glass protector with ultrafine thickn...   19.990   \n",
       "7123    Western Digital hard drive designed for NAS 6T...  255.000   \n",
       "212457                Cable-duty Lightning to USB 1 meter   24.990   \n",
       "\n",
       "        promo_price  in_stock      type  unit_price  price_unit_difference  \n",
       "175975      49.9899         0      1216       47.49                 2.4999  \n",
       "80809       24.9901         1  11905404       22.41                 2.5801  \n",
       "166992      42.0003         0  11865403       42.00                 0.0003  \n",
       "161668      71.9902         1      1229       71.99                 0.0002  \n",
       "163434     358.9997         0  51601716      360.33                -1.3303  \n",
       "90353       55.0331         0       NaN      538.02              -482.9869  \n",
       "18299      199.8920         0  1,46E+11       19.99               179.9020  \n",
       "118545      14.9900         1      2425       14.99                -0.0005  \n",
       "7123       189.9942         1  12655397      230.99               -40.9958  \n",
       "212457      19.9904         1      1230       19.99                 0.0004  "
      ]
     },
     "execution_count": 55,
     "metadata": {},
     "output_type": "execute_result"
    }
   ],
   "source": [
    "df_prod_copy_modified_merged.sample(10)"
   ]
  },
  {
   "cell_type": "code",
   "execution_count": 56,
   "metadata": {
    "tags": []
   },
   "outputs": [],
   "source": [
    "df_prod_copy_modified_merged['price_unit_difference'] = df_prod_copy_modified_merged['promo_price'] - df_prod_copy_modified_merged['unit_price']"
   ]
  },
  {
   "cell_type": "code",
   "execution_count": 57,
   "metadata": {
    "tags": []
   },
   "outputs": [
    {
     "data": {
      "text/html": [
       "<div>\n",
       "<style scoped>\n",
       "    .dataframe tbody tr th:only-of-type {\n",
       "        vertical-align: middle;\n",
       "    }\n",
       "\n",
       "    .dataframe tbody tr th {\n",
       "        vertical-align: top;\n",
       "    }\n",
       "\n",
       "    .dataframe thead th {\n",
       "        text-align: right;\n",
       "    }\n",
       "</style>\n",
       "<table border=\"1\" class=\"dataframe\">\n",
       "  <thead>\n",
       "    <tr style=\"text-align: right;\">\n",
       "      <th></th>\n",
       "      <th>sku</th>\n",
       "      <th>name</th>\n",
       "      <th>desc</th>\n",
       "      <th>price</th>\n",
       "      <th>promo_price</th>\n",
       "      <th>in_stock</th>\n",
       "      <th>type</th>\n",
       "      <th>unit_price</th>\n",
       "      <th>price_unit_difference</th>\n",
       "    </tr>\n",
       "  </thead>\n",
       "  <tbody>\n",
       "    <tr>\n",
       "      <th>33028</th>\n",
       "      <td>SAM0069</td>\n",
       "      <td>256GB Samsung SSD 850 PRO</td>\n",
       "      <td>SSD 256 GB 3D VNAND.</td>\n",
       "      <td>139.99</td>\n",
       "      <td>130.5033</td>\n",
       "      <td>0</td>\n",
       "      <td>12215397</td>\n",
       "      <td>133.58</td>\n",
       "      <td>-3.0767</td>\n",
       "    </tr>\n",
       "    <tr>\n",
       "      <th>207214</th>\n",
       "      <td>AP20372</td>\n",
       "      <td>Like new - Apple iPhone 7 Plus 128GB Gold</td>\n",
       "      <td>Refurbished Apple iPhone 7 Plus but like new 1...</td>\n",
       "      <td>889.00</td>\n",
       "      <td>789.0011</td>\n",
       "      <td>0</td>\n",
       "      <td>85651716</td>\n",
       "      <td>789.00</td>\n",
       "      <td>0.0011</td>\n",
       "    </tr>\n",
       "    <tr>\n",
       "      <th>206088</th>\n",
       "      <td>OTT0180</td>\n",
       "      <td>OtterBox iPhone Case Etui Symmetry Black 8</td>\n",
       "      <td>Symmetry OtterBox protective sleeve one-piece ...</td>\n",
       "      <td>34.99</td>\n",
       "      <td>22.9900</td>\n",
       "      <td>0</td>\n",
       "      <td>11865403</td>\n",
       "      <td>24.99</td>\n",
       "      <td>-2.0000</td>\n",
       "    </tr>\n",
       "    <tr>\n",
       "      <th>75301</th>\n",
       "      <td>APP1192</td>\n",
       "      <td>Magnetic charging cable for Apple Watch (30 cm)</td>\n",
       "      <td>Magnetic Cable for Apple Watch load.</td>\n",
       "      <td>35.00</td>\n",
       "      <td>35.0005</td>\n",
       "      <td>1</td>\n",
       "      <td>24215399</td>\n",
       "      <td>35.00</td>\n",
       "      <td>0.0005</td>\n",
       "    </tr>\n",
       "    <tr>\n",
       "      <th>143802</th>\n",
       "      <td>SAT0020</td>\n",
       "      <td>Satechi Aluminum Card Reader USB-C to USB 3.0 ...</td>\n",
       "      <td>Card reader with SD slots for SD and USB and M...</td>\n",
       "      <td>34.99</td>\n",
       "      <td>24.9901</td>\n",
       "      <td>1</td>\n",
       "      <td>12585395</td>\n",
       "      <td>24.99</td>\n",
       "      <td>0.0001</td>\n",
       "    </tr>\n",
       "    <tr>\n",
       "      <th>171303</th>\n",
       "      <td>GRT0459</td>\n",
       "      <td>Griffin Survivor Case Journey iPhone 6 Plus an...</td>\n",
       "      <td>Cast and impact resistant padded sleeve for iP...</td>\n",
       "      <td>29.99</td>\n",
       "      <td>4.4903</td>\n",
       "      <td>0</td>\n",
       "      <td>11865403</td>\n",
       "      <td>9.99</td>\n",
       "      <td>-5.4997</td>\n",
       "    </tr>\n",
       "    <tr>\n",
       "      <th>104240</th>\n",
       "      <td>ADN0042</td>\n",
       "      <td>Adonith Pixel Pointer Black</td>\n",
       "      <td>Bluetooth digital pen tip 19mm for iPhone and ...</td>\n",
       "      <td>74.99</td>\n",
       "      <td>69.9888</td>\n",
       "      <td>1</td>\n",
       "      <td>1229</td>\n",
       "      <td>74.99</td>\n",
       "      <td>-5.0012</td>\n",
       "    </tr>\n",
       "    <tr>\n",
       "      <th>213364</th>\n",
       "      <td>LAC0202-A</td>\n",
       "      <td>Open - LaCie d2 Hard Drive 8TB Thunderbolt 2 U...</td>\n",
       "      <td>Reconditioned 8TB external hard drive designed...</td>\n",
       "      <td>489.00</td>\n",
       "      <td>364.7300</td>\n",
       "      <td>0</td>\n",
       "      <td>11935397</td>\n",
       "      <td>364.73</td>\n",
       "      <td>0.0000</td>\n",
       "    </tr>\n",
       "    <tr>\n",
       "      <th>33660</th>\n",
       "      <td>GRT0352</td>\n",
       "      <td>Griffin Survivor iPhone Case SE / 5s / 5 black</td>\n",
       "      <td>Ultra Rugged Case for iPhone SE / 5s / 5.</td>\n",
       "      <td>39.99</td>\n",
       "      <td>31.9900</td>\n",
       "      <td>0</td>\n",
       "      <td>11865403</td>\n",
       "      <td>26.44</td>\n",
       "      <td>5.5500</td>\n",
       "    </tr>\n",
       "    <tr>\n",
       "      <th>61439</th>\n",
       "      <td>WAC0166</td>\n",
       "      <td>Wacom Intuos Graphics Tablet S Draw with penci...</td>\n",
       "      <td>Small graphics tablet with pen and Art Rage Li...</td>\n",
       "      <td>79.90</td>\n",
       "      <td>69.9900</td>\n",
       "      <td>0</td>\n",
       "      <td>1405</td>\n",
       "      <td>72.99</td>\n",
       "      <td>-3.0000</td>\n",
       "    </tr>\n",
       "  </tbody>\n",
       "</table>\n",
       "</div>"
      ],
      "text/plain": [
       "              sku                                               name  \\\n",
       "33028     SAM0069                          256GB Samsung SSD 850 PRO   \n",
       "207214    AP20372          Like new - Apple iPhone 7 Plus 128GB Gold   \n",
       "206088    OTT0180         OtterBox iPhone Case Etui Symmetry Black 8   \n",
       "75301     APP1192    Magnetic charging cable for Apple Watch (30 cm)   \n",
       "143802    SAT0020  Satechi Aluminum Card Reader USB-C to USB 3.0 ...   \n",
       "171303    GRT0459  Griffin Survivor Case Journey iPhone 6 Plus an...   \n",
       "104240    ADN0042                        Adonith Pixel Pointer Black   \n",
       "213364  LAC0202-A  Open - LaCie d2 Hard Drive 8TB Thunderbolt 2 U...   \n",
       "33660     GRT0352     Griffin Survivor iPhone Case SE / 5s / 5 black   \n",
       "61439     WAC0166  Wacom Intuos Graphics Tablet S Draw with penci...   \n",
       "\n",
       "                                                     desc   price  \\\n",
       "33028                                SSD 256 GB 3D VNAND.  139.99   \n",
       "207214  Refurbished Apple iPhone 7 Plus but like new 1...  889.00   \n",
       "206088  Symmetry OtterBox protective sleeve one-piece ...   34.99   \n",
       "75301                Magnetic Cable for Apple Watch load.   35.00   \n",
       "143802  Card reader with SD slots for SD and USB and M...   34.99   \n",
       "171303  Cast and impact resistant padded sleeve for iP...   29.99   \n",
       "104240  Bluetooth digital pen tip 19mm for iPhone and ...   74.99   \n",
       "213364  Reconditioned 8TB external hard drive designed...  489.00   \n",
       "33660           Ultra Rugged Case for iPhone SE / 5s / 5.   39.99   \n",
       "61439   Small graphics tablet with pen and Art Rage Li...   79.90   \n",
       "\n",
       "        promo_price  in_stock      type  unit_price  price_unit_difference  \n",
       "33028      130.5033         0  12215397      133.58                -3.0767  \n",
       "207214     789.0011         0  85651716      789.00                 0.0011  \n",
       "206088      22.9900         0  11865403       24.99                -2.0000  \n",
       "75301       35.0005         1  24215399       35.00                 0.0005  \n",
       "143802      24.9901         1  12585395       24.99                 0.0001  \n",
       "171303       4.4903         0  11865403        9.99                -5.4997  \n",
       "104240      69.9888         1      1229       74.99                -5.0012  \n",
       "213364     364.7300         0  11935397      364.73                 0.0000  \n",
       "33660       31.9900         0  11865403       26.44                 5.5500  \n",
       "61439       69.9900         0      1405       72.99                -3.0000  "
      ]
     },
     "execution_count": 57,
     "metadata": {},
     "output_type": "execute_result"
    }
   ],
   "source": [
    "df_prod_copy_modified_merged.sample(10)"
   ]
  },
  {
   "cell_type": "code",
   "execution_count": 58,
   "metadata": {
    "tags": []
   },
   "outputs": [
    {
     "data": {
      "text/plain": [
       "68624"
      ]
     },
     "execution_count": 58,
     "metadata": {},
     "output_type": "execute_result"
    }
   ],
   "source": [
    "(df_prod_copy_modified_merged['price_unit_difference'] < 0).sum()"
   ]
  },
  {
   "cell_type": "code",
   "execution_count": 59,
   "metadata": {
    "tags": []
   },
   "outputs": [
    {
     "name": "stdout",
     "output_type": "stream",
     "text": [
      "<class 'pandas.core.frame.DataFrame'>\n",
      "RangeIndex: 216341 entries, 0 to 216340\n",
      "Data columns (total 9 columns):\n",
      " #   Column                 Non-Null Count   Dtype  \n",
      "---  ------                 --------------   -----  \n",
      " 0   sku                    216341 non-null  object \n",
      " 1   name                   216341 non-null  object \n",
      " 2   desc                   216330 non-null  object \n",
      " 3   price                  216341 non-null  float64\n",
      " 4   promo_price            216341 non-null  float64\n",
      " 5   in_stock               216341 non-null  int64  \n",
      " 6   type                   216137 non-null  object \n",
      " 7   unit_price             212726 non-null  float64\n",
      " 8   price_unit_difference  212726 non-null  float64\n",
      "dtypes: float64(4), int64(1), object(4)\n",
      "memory usage: 14.9+ MB\n"
     ]
    }
   ],
   "source": [
    "df_prod_copy_modified_merged.info()"
   ]
  },
  {
   "cell_type": "code",
   "execution_count": null,
   "metadata": {},
   "outputs": [],
   "source": []
  }
 ],
 "metadata": {
  "colab": {
   "provenance": []
  },
  "kernelspec": {
   "display_name": "Python 3 (ipykernel)",
   "language": "python",
   "name": "python3"
  },
  "language_info": {
   "codemirror_mode": {
    "name": "ipython",
    "version": 3
   },
   "file_extension": ".py",
   "mimetype": "text/x-python",
   "name": "python",
   "nbconvert_exporter": "python",
   "pygments_lexer": "ipython3",
   "version": "3.11.5"
  }
 },
 "nbformat": 4,
 "nbformat_minor": 4
}
